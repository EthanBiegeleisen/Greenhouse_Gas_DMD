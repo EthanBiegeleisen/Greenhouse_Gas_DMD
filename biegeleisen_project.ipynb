{
 "cells": [
  {
   "cell_type": "markdown",
   "metadata": {},
   "source": [
    "### Ethan Biegeleisen"
   ]
  },
  {
   "cell_type": "markdown",
   "metadata": {},
   "source": [
    "### MATG 511 - Computational Methods for Analytics"
   ]
  },
  {
   "cell_type": "markdown",
   "metadata": {},
   "source": [
    "### Final Project"
   ]
  },
  {
   "cell_type": "markdown",
   "metadata": {},
   "source": [
    "### Preparing the data set for DMD"
   ]
  },
  {
   "cell_type": "code",
   "execution_count": 1,
   "metadata": {},
   "outputs": [],
   "source": [
    "import pandas as pd\n",
    "import numpy as np\n",
    "import matplotlib.pyplot as plt\n",
    "\n",
    "data = pd.read_csv('greenhouse_gas_inventory_data_data.csv')\n",
    "# Uses pandas to read the dataset in a dataframe"
   ]
  },
  {
   "cell_type": "code",
   "execution_count": 2,
   "metadata": {},
   "outputs": [
    {
     "name": "stdout",
     "output_type": "stream",
     "text": [
      "[278265.89894077 279741.63901186 284766.09271784 289142.26768133\n",
      " 293830.70914119 305162.54354873 311914.81982423 320439.11681939\n",
      " 334328.1426466  343713.90694777 349885.43310893 357653.3298993\n",
      " 361861.38789603 368345.97742511 381519.26159278 385581.13280647\n",
      " 391134.10090945 398816.45354355 404237.82821408 408448.47899963\n",
      " 406200.99318434 403705.52831399 406462.8477036  396913.93653029\n",
      " 393126.94699429]\n",
      "[418623.04956265 418674.05749386 423080.10819125 423764.93256425\n",
      " 424092.95937256 433478.65082585 439803.96222825 451721.71781467\n",
      " 466382.11247181 472245.9907776  483445.82666482 491441.69593714\n",
      " 494740.10077673 495154.0859668  511710.24202082 518850.75946238\n",
      " 522517.19166329 529842.87034248 533693.50820738 537889.89262362\n",
      " 533917.43629539 534089.79868471 537377.5714528  526882.66726659\n",
      " 522397.09071135]\n"
     ]
    }
   ],
   "source": [
    "AustraliaC = data.iloc[0:25,2] \n",
    "# The carbon dioxide values for Australia are on the third column and the first through 25th rows\n",
    "AustraliaC = np.array(AustraliaC)\n",
    "# Turns the carbon dioxide values for Australia into a numpy array\n",
    "AustraliaC = np.flip(AustraliaC)\n",
    "# Flips the values of the numpy array from reverse-chronological order (2014-1990) to chronological order (1990-2014)\n",
    "\n",
    "# Repeat the above process for the greenhouse gas values\n",
    "\n",
    "AustraliaG = data.iloc[1074:1099,2] \n",
    "# The greenhouse gas for Australia are on the third column and the 1075th through 1100th rows\n",
    "AustraliaG = np.array(AustraliaG)\n",
    "# Turns the greenhouse gas values for Australia into a numpy array\n",
    "AustraliaG = np.flip(AustraliaG)\n",
    "# Flips the values of the numpy array from reverse-chronological order (2014-1990) to chronological order (1990-2014)\n",
    "\n",
    "print(AustraliaC)\n",
    "print(AustraliaG)"
   ]
  },
  {
   "cell_type": "code",
   "execution_count": 3,
   "metadata": {},
   "outputs": [
    {
     "data": {
      "image/png": "[encoded data removed]",
      "text/plain": [
       "<Figure size 640x480 with 1 Axes>"
      ]
     },
     "metadata": {
      "needs_background": "light"
     },
     "output_type": "display_data"
    }
   ],
   "source": [
    "# Plotting Australia's carbon dioxide value array and greenhouse gas value array\n",
    "\n",
    "x = np.linspace(1990, 2014, num = 25) # Creates a numpy array containing all of the values of x for the plot\n",
    "\n",
    "plt.figure(figsize=(8, 6), dpi=80)\n",
    "plt.scatter(x, AustraliaC, marker = 'o', color = 'blue', label = 'CO2 Emissions')\n",
    "plt.scatter(x, AustraliaG, marker = '^', color = 'green', label = 'GHG Emissions')\n",
    "\n",
    "plt.title('Annual CO2 Emissions vs Annual GHG Emissions in Australia')\n",
    "plt.xlabel('Year')\n",
    "plt.ylabel('Emissions (kilotons)')\n",
    "plt.legend()\n",
    "plt.show()"
   ]
  },
  {
   "cell_type": "markdown",
   "metadata": {},
   "source": [
    "Repeat the above process for every  country or area in the dataset:"
   ]
  },
  {
   "cell_type": "code",
   "execution_count": 4,
   "metadata": {},
   "outputs": [],
   "source": [
    "AustriaC = data.iloc[25:50,2]\n",
    "AustriaC = np.array(AustriaC)\n",
    "AustriaC = np.flip(AustriaC)\n",
    "\n",
    "AustriaG = data.iloc[1099:1124,2]\n",
    "AustriaG = np.array(AustriaG)\n",
    "AustriaG = np.flip(AustriaG)"
   ]
  },
  {
   "cell_type": "code",
   "execution_count": 5,
   "metadata": {},
   "outputs": [],
   "source": [
    "BelarusC = data.iloc[50:75,2]\n",
    "BelarusC = np.array(BelarusC)\n",
    "BelarusC = np.flip(BelarusC)\n",
    "\n",
    "BelarusG = data.iloc[1124:1149,2]\n",
    "BelarusG = np.array(BelarusG)\n",
    "BelarusG = np.flip(BelarusG)"
   ]
  },
  {
   "cell_type": "code",
   "execution_count": 6,
   "metadata": {},
   "outputs": [],
   "source": [
    "BelgiumC = data.iloc[75:100,2]\n",
    "BelgiumC = np.array(BelgiumC)\n",
    "BelgiumC = np.flip(BelgiumC)\n",
    "\n",
    "BelgiumG = data.iloc[1149:1174,2]\n",
    "BelgiumG = np.array(BelgiumG)\n",
    "BelgiumG = np.flip(BelgiumG)"
   ]
  },
  {
   "cell_type": "code",
   "execution_count": 7,
   "metadata": {},
   "outputs": [],
   "source": [
    "BulgariaC = data.iloc[100:125,2]\n",
    "BulgariaC = np.array(BulgariaC)\n",
    "BulgariaC = np.flip(BulgariaC)\n",
    "\n",
    "# Bulgaria does not have greenhouse gas values in the data set so it cannot be included"
   ]
  },
  {
   "cell_type": "code",
   "execution_count": 8,
   "metadata": {},
   "outputs": [],
   "source": [
    "CanadaC = data.iloc[125:150,2]\n",
    "CanadaC = np.array(CanadaC)\n",
    "CanadaC = np.flip(CanadaC)\n",
    "\n",
    "CanadaG = data.iloc[1174:1199,2]\n",
    "CanadaG = np.array(CanadaG)\n",
    "CanadaG = np.flip(CanadaG)"
   ]
  },
  {
   "cell_type": "code",
   "execution_count": 9,
   "metadata": {},
   "outputs": [],
   "source": [
    "CroatiaC = data.iloc[150:175,2]\n",
    "CroatiaC = np.array(CroatiaC)\n",
    "CroatiaC = np.flip(CroatiaC)\n",
    "\n",
    "CroatiaG = data.iloc[1199:1224,2]\n",
    "CroatiaG = np.array(CroatiaG)\n",
    "CroatiaG = np.flip(CroatiaG)"
   ]
  },
  {
   "cell_type": "code",
   "execution_count": 10,
   "metadata": {},
   "outputs": [],
   "source": [
    "CyprusC = data.iloc[175:200,2]\n",
    "CyprusC = np.array(CyprusC)\n",
    "CyprusC = np.flip(CyprusC)\n",
    "\n",
    "CyprusG = data.iloc[1224:1249,2]\n",
    "CyprusG = np.array(CyprusG)\n",
    "CyprusG = np.flip(CyprusG)"
   ]
  },
  {
   "cell_type": "code",
   "execution_count": 11,
   "metadata": {},
   "outputs": [],
   "source": [
    "Czech_RepublicC = data.iloc[200:225,2]\n",
    "Czech_RepublicC = np.array(Czech_RepublicC)\n",
    "Czech_RepublicC = np.flip(Czech_RepublicC)\n",
    "\n",
    "Czech_RepublicG = data.iloc[1249:1274,2]\n",
    "Czech_RepublicG = np.array(Czech_RepublicG)\n",
    "Czech_RepublicG = np.flip(Czech_RepublicG)"
   ]
  },
  {
   "cell_type": "code",
   "execution_count": 12,
   "metadata": {},
   "outputs": [],
   "source": [
    "DenmarkC = data.iloc[225:250,2]\n",
    "DenmarkC = np.array(DenmarkC)\n",
    "DenmarkC = np.flip(DenmarkC)\n",
    "\n",
    "DenmarkG = data.iloc[1274:1299,2]\n",
    "DenmarkG = np.array(DenmarkG)\n",
    "DenmarkG = np.flip(DenmarkG)"
   ]
  },
  {
   "cell_type": "code",
   "execution_count": 13,
   "metadata": {},
   "outputs": [],
   "source": [
    "EstoniaC = data.iloc[250:275,2]\n",
    "EstoniaC = np.array(EstoniaC)\n",
    "EstoniaC = np.flip(EstoniaC)\n",
    "\n",
    "EstoniaG = data.iloc[1299:1324,2]\n",
    "EstoniaG = np.array(EstoniaG)\n",
    "EstoniaG = np.flip(EstoniaG)"
   ]
  },
  {
   "cell_type": "code",
   "execution_count": 14,
   "metadata": {},
   "outputs": [],
   "source": [
    "European_UnionC = data.iloc[275:300,2]\n",
    "European_UnionC = np.array(European_UnionC)\n",
    "European_UnionC = np.flip(European_UnionC)\n",
    "\n",
    "European_UnionG = data.iloc[1324:1349,2]\n",
    "European_UnionG = np.array(European_UnionG)\n",
    "European_UnionG = np.flip(European_UnionG)"
   ]
  },
  {
   "cell_type": "code",
   "execution_count": 15,
   "metadata": {},
   "outputs": [],
   "source": [
    "FinlandC = data.iloc[300:325,2]\n",
    "FinlandC = np.array(FinlandC)\n",
    "FinlandC = np.flip(FinlandC)\n",
    "\n",
    "FinlandG = data.iloc[1349:1374,2]\n",
    "FinlandG = np.array(FinlandG)\n",
    "FinlandG = np.flip(FinlandG)"
   ]
  },
  {
   "cell_type": "code",
   "execution_count": 16,
   "metadata": {},
   "outputs": [],
   "source": [
    "FranceC = data.iloc[325:350,2]\n",
    "FranceC = np.array(FranceC)\n",
    "FranceC = np.flip(FranceC)\n",
    "\n",
    "FranceG = data.iloc[1374:1399,2]\n",
    "FranceG = np.array(FranceG)\n",
    "FranceG = np.flip(FranceG)"
   ]
  },
  {
   "cell_type": "code",
   "execution_count": 17,
   "metadata": {},
   "outputs": [],
   "source": [
    "GermanyC = data.iloc[350:375,2]\n",
    "GermanyC = np.array(GermanyC)\n",
    "GermanyC = np.flip(GermanyC)\n",
    "\n",
    "GermanyG = data.iloc[1399:1424,2]\n",
    "GermanyG = np.array(GermanyG)\n",
    "GermanyG = np.flip(GermanyG)"
   ]
  },
  {
   "cell_type": "code",
   "execution_count": 18,
   "metadata": {},
   "outputs": [],
   "source": [
    "GreeceC = data.iloc[375:400,2]\n",
    "GreeceC = np.array(GreeceC)\n",
    "GreeceC = np.flip(GreeceC)\n",
    "\n",
    "GreeceG = data.iloc[1424:1449,2]\n",
    "GreeceG = np.array(GreeceG)\n",
    "GreeceG = np.flip(GreeceG)"
   ]
  },
  {
   "cell_type": "code",
   "execution_count": 19,
   "metadata": {},
   "outputs": [],
   "source": [
    "HungaryC = data.iloc[400:425,2]\n",
    "HungaryC = np.array(HungaryC)\n",
    "HungaryC = np.flip(HungaryC)\n",
    "\n",
    "HungaryG = data.iloc[1449:1474,2]\n",
    "HungaryG = np.array(HungaryG)\n",
    "HungaryG = np.flip(HungaryG)"
   ]
  },
  {
   "cell_type": "code",
   "execution_count": 20,
   "metadata": {},
   "outputs": [],
   "source": [
    "IcelandC = data.iloc[425:450,2]\n",
    "IcelandC = np.array(IcelandC)\n",
    "IcelandC = np.flip(IcelandC)\n",
    "\n",
    "IcelandG = data.iloc[1474:1499,2]\n",
    "IcelandG = np.array(IcelandG)\n",
    "IcelandG = np.flip(IcelandG)"
   ]
  },
  {
   "cell_type": "code",
   "execution_count": 21,
   "metadata": {},
   "outputs": [],
   "source": [
    "IrelandC = data.iloc[450:475,2]\n",
    "IrelandC = np.array(IrelandC)\n",
    "IrelandC = np.flip(IrelandC)\n",
    "\n",
    "IrelandG = data.iloc[1499:1524,2]\n",
    "IrelandG = np.array(IrelandG)\n",
    "IrelandG = np.flip(IrelandG)"
   ]
  },
  {
   "cell_type": "code",
   "execution_count": 22,
   "metadata": {},
   "outputs": [],
   "source": [
    "ItalyC = data.iloc[475:500,2]\n",
    "ItalyC = np.array(ItalyC)\n",
    "ItalyC = np.flip(ItalyC)\n",
    "\n",
    "ItalyG = data.iloc[1524:1549,2]\n",
    "ItalyG = np.array(ItalyG)\n",
    "ItalyG = np.flip(ItalyG)"
   ]
  },
  {
   "cell_type": "code",
   "execution_count": 23,
   "metadata": {},
   "outputs": [],
   "source": [
    "JapanC = data.iloc[500:525,2]\n",
    "JapanC = np.array(JapanC)\n",
    "JapanC = np.flip(JapanC)\n",
    "\n",
    "JapanG = data.iloc[1549:1574,2]\n",
    "JapanG = np.array(JapanG)\n",
    "JapanG = np.flip(JapanG)"
   ]
  },
  {
   "cell_type": "code",
   "execution_count": 24,
   "metadata": {},
   "outputs": [],
   "source": [
    "LatviaC = data.iloc[525:550,2]\n",
    "LatviaC = np.array(LatviaC)\n",
    "LatviaC = np.flip(LatviaC)\n",
    "\n",
    "LatviaG = data.iloc[1574:1599,2]\n",
    "LatviaG = np.array(LatviaG)\n",
    "LatviaG = np.flip(LatviaG)"
   ]
  },
  {
   "cell_type": "code",
   "execution_count": 25,
   "metadata": {},
   "outputs": [],
   "source": [
    "LiechtensteinC = data.iloc[550:575,2]\n",
    "LiechtensteinC = np.array(LiechtensteinC)\n",
    "LiechtensteinC = np.flip(LiechtensteinC)\n",
    "\n",
    "# Liechtenstein does not have greenhouse gas values in the data set so it cannot be included"
   ]
  },
  {
   "cell_type": "code",
   "execution_count": 26,
   "metadata": {},
   "outputs": [],
   "source": [
    "LithuaniaC = data.iloc[575:600,2]\n",
    "LithuaniaC = np.array(LithuaniaC)\n",
    "LithuaniaC = np.flip(LithuaniaC)\n",
    "\n",
    "LithuaniaG = data.iloc[1599:1624,2]\n",
    "LithuaniaG = np.array(LithuaniaG)\n",
    "LithuaniaG = np.flip(LithuaniaG)"
   ]
  },
  {
   "cell_type": "code",
   "execution_count": 27,
   "metadata": {},
   "outputs": [],
   "source": [
    "LuxembourgC = data.iloc[600:625,2]\n",
    "LuxembourgC = np.array(LuxembourgC)\n",
    "LuxembourgC = np.flip(LuxembourgC)\n",
    "\n",
    "# Luxembourg does not have greenhouse gas values in the data set so it cannot be included"
   ]
  },
  {
   "cell_type": "code",
   "execution_count": 28,
   "metadata": {},
   "outputs": [],
   "source": [
    "MaltaC = data.iloc[625:650,2]\n",
    "MaltaC = np.array(MaltaC)\n",
    "MaltaC = np.flip(MaltaC)\n",
    "\n",
    "MaltaG = data.iloc[1624:1649,2]\n",
    "MaltaG = np.array(MaltaG)\n",
    "MaltaG = np.flip(MaltaG)"
   ]
  },
  {
   "cell_type": "code",
   "execution_count": 29,
   "metadata": {},
   "outputs": [],
   "source": [
    "# Monaco is not included because its data set covers 1990-2013 instead of 1990-2014"
   ]
  },
  {
   "cell_type": "code",
   "execution_count": 30,
   "metadata": {},
   "outputs": [],
   "source": [
    "NetherlandsC = data.iloc[674:699,2]\n",
    "NetherlandsC = np.array(NetherlandsC)\n",
    "NetherlandsC = np.flip(NetherlandsC)\n",
    "\n",
    "NetherlandsG = data.iloc[1673:1698,2]\n",
    "NetherlandsG = np.array(NetherlandsG)\n",
    "NetherlandsG = np.flip(NetherlandsG)"
   ]
  },
  {
   "cell_type": "code",
   "execution_count": 31,
   "metadata": {},
   "outputs": [],
   "source": [
    "New_ZealandC = data.iloc[699:724,2]\n",
    "New_ZealandC = np.array(New_ZealandC)\n",
    "New_ZealandC = np.flip(New_ZealandC)\n",
    "\n",
    "New_ZealandG = data.iloc[1698:1723,2]\n",
    "New_ZealandG = np.array(New_ZealandG)\n",
    "New_ZealandG = np.flip(New_ZealandG)"
   ]
  },
  {
   "cell_type": "code",
   "execution_count": 32,
   "metadata": {
    "scrolled": true
   },
   "outputs": [],
   "source": [
    "NorwayC = data.iloc[724:749,2]\n",
    "NorwayC = np.array(NorwayC)\n",
    "NorwayC = np.flip(NorwayC)\n",
    "\n",
    "NorwayG = data.iloc[1723:1748,2]\n",
    "NorwayG = np.array(NorwayG)\n",
    "NorwayG = np.flip(NorwayG)"
   ]
  },
  {
   "cell_type": "code",
   "execution_count": 33,
   "metadata": {},
   "outputs": [],
   "source": [
    "PolandC = data.iloc[749:774,2]\n",
    "PolandC = np.array(PolandC)\n",
    "PolandC = np.flip(PolandC)\n",
    "\n",
    "PolandG = data.iloc[1748:1773,2]\n",
    "PolandG = np.array(PolandG)\n",
    "PolandG = np.flip(PolandG)"
   ]
  },
  {
   "cell_type": "code",
   "execution_count": 34,
   "metadata": {},
   "outputs": [],
   "source": [
    "PortugalC = data.iloc[774:799,2]\n",
    "PortugalC = np.array(PortugalC)\n",
    "PortugalC = np.flip(PortugalC)\n",
    "\n",
    "PortugalG = data.iloc[1773:1798,2]\n",
    "PortugalG = np.array(PortugalG)\n",
    "PortugalG = np.flip(PortugalG)"
   ]
  },
  {
   "cell_type": "code",
   "execution_count": 35,
   "metadata": {},
   "outputs": [],
   "source": [
    "RomaniaC = data.iloc[799:824,2]\n",
    "RomaniaC = np.array(RomaniaC)\n",
    "RomaniaC = np.flip(RomaniaC)\n",
    "\n",
    "RomaniaG = data.iloc[1798:1823,2]\n",
    "RomaniaG = np.array(RomaniaG)\n",
    "RomaniaG = np.flip(RomaniaG)"
   ]
  },
  {
   "cell_type": "code",
   "execution_count": 36,
   "metadata": {},
   "outputs": [],
   "source": [
    "Russian_FederationC = data.iloc[824:849,2]\n",
    "Russian_FederationC = np.array(Russian_FederationC)\n",
    "Russian_FederationC = np.flip(Russian_FederationC)\n",
    "\n",
    "Russian_FederationG = data.iloc[1823:1848,2]\n",
    "Russian_FederationG = np.array(Russian_FederationG)\n",
    "Russian_FederationG = np.flip(Russian_FederationG)"
   ]
  },
  {
   "cell_type": "code",
   "execution_count": 37,
   "metadata": {},
   "outputs": [],
   "source": [
    "SlovakiaC = data.iloc[849:874,2]\n",
    "SlovakiaC = np.array(SlovakiaC)\n",
    "SlovakiaC = np.flip(SlovakiaC)\n",
    "\n",
    "SlovakiaG = data.iloc[1848:1873,2]\n",
    "SlovakiaG = np.array(SlovakiaG)\n",
    "SlovakiaG = np.flip(SlovakiaG)"
   ]
  },
  {
   "cell_type": "code",
   "execution_count": 38,
   "metadata": {},
   "outputs": [],
   "source": [
    "SloveniaC = data.iloc[874:899,2]\n",
    "SloveniaC = np.array(SloveniaC)\n",
    "SloveniaC = np.flip(SloveniaC)\n",
    "\n",
    "SloveniaG = data.iloc[1873:1898,2]\n",
    "SloveniaG = np.array(SloveniaG)\n",
    "SloveniaG = np.flip(SloveniaG)"
   ]
  },
  {
   "cell_type": "code",
   "execution_count": 39,
   "metadata": {},
   "outputs": [],
   "source": [
    "SpainC = data.iloc[899:924,2]\n",
    "SpainC = np.array(SpainC)\n",
    "SpainC = np.flip(SpainC)\n",
    "\n",
    "# Spain does not have greenhouse gas values in the data set so it cannot be included"
   ]
  },
  {
   "cell_type": "code",
   "execution_count": 40,
   "metadata": {},
   "outputs": [],
   "source": [
    "SwedenC = data.iloc[924:949,2]\n",
    "SwedenC = np.array(SwedenC)\n",
    "SwedenC = np.flip(SwedenC)\n",
    "\n",
    "SwedenG = data.iloc[1898:1923,2]\n",
    "SwedenG = np.array(SwedenG)\n",
    "SwedenG = np.flip(SwedenG)"
   ]
  },
  {
   "cell_type": "code",
   "execution_count": 41,
   "metadata": {},
   "outputs": [],
   "source": [
    "SwitzerlandC = data.iloc[949:974,2]\n",
    "SwitzerlandC = np.array(SwitzerlandC)\n",
    "SwitzerlandC = np.flip(SwitzerlandC)\n",
    "\n",
    "SwitzerlandG = data.iloc[1923:1948,2]\n",
    "SwitzerlandG = np.array(SwitzerlandG)\n",
    "SwitzerlandG = np.flip(SwitzerlandG)"
   ]
  },
  {
   "cell_type": "code",
   "execution_count": 42,
   "metadata": {},
   "outputs": [],
   "source": [
    "TurkeyC = data.iloc[974:999,2]\n",
    "TurkeyC = np.array(TurkeyC)\n",
    "TurkeyC = np.flip(TurkeyC)\n",
    "\n",
    "TurkeyG = data.iloc[1948:1973,2]\n",
    "TurkeyG = np.array(TurkeyG)\n",
    "TurkeyG = np.flip(TurkeyG)"
   ]
  },
  {
   "cell_type": "code",
   "execution_count": 43,
   "metadata": {},
   "outputs": [],
   "source": [
    "UkraineC = data.iloc[999:1024,2]\n",
    "UkraineC = np.array(UkraineC)\n",
    "UkraineC = np.flip(UkraineC)\n",
    "\n",
    "UkraineG = data.iloc[1973:1998,2]\n",
    "UkraineG = np.array(UkraineG)\n",
    "UkraineG = np.flip(UkraineG)"
   ]
  },
  {
   "cell_type": "code",
   "execution_count": 44,
   "metadata": {},
   "outputs": [],
   "source": [
    "United_KingdomC = data.iloc[1024:1049,2]\n",
    "United_KingdomC = np.array(United_KingdomC)\n",
    "United_KingdomC = np.flip(United_KingdomC)\n",
    "\n",
    "# United Kingdom does not have greenhouse gas values in the data set so it cannot be included"
   ]
  },
  {
   "cell_type": "code",
   "execution_count": 45,
   "metadata": {},
   "outputs": [],
   "source": [
    "United_StatesC = data.iloc[1049:1074,2]\n",
    "United_StatesC = np.array(United_StatesC)\n",
    "United_StatesC = np.flip(United_StatesC)\n",
    "\n",
    "United_StatesG = data.iloc[1998:2023,2]\n",
    "United_StatesG = np.array(United_StatesG)\n",
    "United_StatesG = np.flip(United_StatesG)"
   ]
  },
  {
   "cell_type": "code",
   "execution_count": 46,
   "metadata": {},
   "outputs": [
    {
     "name": "stdout",
     "output_type": "stream",
     "text": [
      "[[2.78265899e+05 2.79741639e+05 2.84766093e+05 2.89142268e+05\n",
      "  2.93830709e+05 3.05162544e+05 3.11914820e+05 3.20439117e+05\n",
      "  3.34328143e+05 3.43713907e+05 3.49885433e+05 3.57653330e+05\n",
      "  3.61861388e+05 3.68345977e+05 3.81519262e+05 3.85581133e+05\n",
      "  3.91134101e+05 3.98816454e+05 4.04237828e+05 4.08448479e+05\n",
      "  4.06200993e+05 4.03705528e+05 4.06462848e+05 3.96913937e+05]\n",
      " [6.22971656e+04 6.59035133e+04 6.04322493e+04 6.07907577e+04\n",
      "  6.11891025e+04 6.42021592e+04 6.76672627e+04 6.74558927e+04\n",
      "  6.70472507e+04 6.56601336e+04 6.62747433e+04 7.02994711e+04\n",
      "  7.21265914e+04 7.80239539e+04 7.83889974e+04 7.95885019e+04\n",
      "  7.69349515e+04 7.42681107e+04 7.40662558e+04 6.76827251e+04\n",
      "  7.25318261e+04 7.03271670e+04 6.76986586e+04 6.79571211e+04]\n",
      " [1.00438095e+05 9.36491661e+04 8.70608103e+04 7.55517553e+04\n",
      "  6.24022791e+04 5.60059394e+04 5.72513557e+04 6.09718163e+04\n",
      "  5.74263296e+04 5.50339521e+04 5.36868575e+04 5.37838477e+04\n",
      "  5.38437044e+04 5.48451458e+04 5.84576476e+04 5.96647391e+04\n",
      "  6.22293989e+04 6.15638817e+04 6.38461038e+04 5.95962054e+04\n",
      "  6.16324927e+04 6.11284006e+04 6.06368514e+04 6.15109872e+04]\n",
      " [1.19982503e+05 1.23130653e+05 1.22217920e+05 1.21156965e+05\n",
      "  1.24426886e+05 1.25519442e+05 1.29010472e+05 1.23495743e+05\n",
      "  1.29737090e+05 1.24208072e+05 1.26315210e+05 1.25649371e+05\n",
      "  1.26015195e+05 1.27523990e+05 1.28640483e+05 1.25118017e+05\n",
      "  1.22319594e+05 1.18027409e+05 1.20362610e+05 1.07282544e+05\n",
      "  1.14155387e+05 1.04945714e+05 1.00931596e+05 1.01744737e+05]\n",
      " [4.63493332e+05 4.54246138e+05 4.68546459e+05 4.67607237e+05\n",
      "  4.82691671e+05 4.97224837e+05 5.10619682e+05 5.25120011e+05\n",
      "  5.33794454e+05 5.50183063e+05 5.72290386e+05 5.64617020e+05\n",
      "  5.69862146e+05 5.87306679e+05 5.85414861e+05 5.79225336e+05\n",
      "  5.73479270e+05 5.96041322e+05 5.77444930e+05 5.42829459e+05\n",
      "  5.55003760e+05 5.58152723e+05 5.63423613e+05 5.73094039e+05]\n",
      " [2.33900752e+04 1.72689103e+04 1.66071345e+04 1.70812280e+04\n",
      "  1.63421819e+04 1.69928004e+04 1.75878985e+04 1.86664670e+04\n",
      "  1.93723876e+04 2.02156532e+04 1.97891218e+04 2.09431100e+04\n",
      "  2.20311267e+04 2.33552211e+04 2.30052349e+04 2.34518458e+04\n",
      "  2.36849350e+04 2.49553759e+04 2.37153843e+04 2.19656353e+04\n",
      "  2.11837093e+04 2.06144405e+04 1.87763813e+04 1.83594998e+04]\n",
      " [4.62100718e+03 5.10708289e+03 5.48297487e+03 5.73367410e+03\n",
      "  5.97725710e+03 5.84804379e+03 6.15613213e+03 6.28703166e+03\n",
      "  6.58029615e+03 6.84765912e+03 7.09596438e+03 6.96946618e+03\n",
      "  7.16038846e+03 7.55008193e+03 7.77690940e+03 7.96198399e+03\n",
      "  8.15249231e+03 8.45866426e+03 8.62039558e+03 8.37239659e+03\n",
      "  8.00491202e+03 7.69666781e+03 7.16097188e+03 6.44961081e+03]\n",
      " [1.61662019e+05 1.46047340e+05 1.41565720e+05 1.35588566e+05\n",
      "  1.29188734e+05 1.29767166e+05 1.32234072e+05 1.28732639e+05\n",
      "  1.23696517e+05 1.15475260e+05 1.25841969e+05 1.25541536e+05\n",
      "  1.22593400e+05 1.26151649e+05 1.26876916e+05 1.24590138e+05\n",
      "  1.25923402e+05 1.26933163e+05 1.21780716e+05 1.13970029e+05\n",
      "  1.15757369e+05 1.14113147e+05 1.09841329e+05 1.06477089e+05]\n",
      " [5.43064333e+04 6.48748139e+04 5.89603115e+04 6.10386712e+04\n",
      "  6.49887809e+04 6.19141610e+04 7.51108410e+04 6.54578348e+04\n",
      "  6.11173416e+04 5.84564158e+04 5.41489050e+04 5.58451472e+04\n",
      "  5.53396717e+04 6.04939617e+04 5.49169106e+04 5.13072445e+04\n",
      "  5.91624996e+04 5.44290852e+04 5.09356715e+04 4.85922114e+04\n",
      "  4.89934174e+04 4.39707893e+04 3.95244020e+04 4.15370358e+04]\n",
      " [3.66660273e+04 3.36623725e+04 2.41878276e+04 1.88109639e+04\n",
      "  1.96264459e+04 1.79537360e+04 1.86661360e+04 1.82236043e+04\n",
      "  1.66843031e+04 1.55184906e+04 1.51413877e+04 1.54938610e+04\n",
      "  1.50202842e+04 1.68332143e+04 1.70550742e+04 1.63307338e+04\n",
      "  1.57195289e+04 1.87556479e+04 1.72645200e+04 1.41530052e+04\n",
      "  1.78337796e+04 1.84499309e+04 1.73046372e+04 1.95663684e+04]\n",
      " [4.46220514e+06 4.40372316e+06 4.25992281e+06 4.17710651e+06\n",
      "  4.16132132e+06 4.20448086e+06 4.30479328e+06 4.21652473e+06\n",
      "  4.20766603e+06 4.13900299e+06 4.16514544e+06 4.23203686e+06\n",
      "  4.20886012e+06 4.30610394e+06 4.31456087e+06 4.29058667e+06\n",
      "  4.29798816e+06 4.24421313e+06 4.14962430e+06 3.81430526e+06\n",
      "  3.93329052e+06 3.78976364e+06 3.72896503e+06 3.64638953e+06]\n",
      " [5.69508482e+04 5.51871795e+04 5.42643793e+04 5.63332680e+04\n",
      "  6.16963853e+04 5.81262475e+04 6.40389222e+04 6.26980868e+04\n",
      "  5.93514981e+04 5.88729308e+04 5.69733505e+04 6.24426401e+04\n",
      "  6.49464682e+04 7.25225902e+04 6.88218129e+04 5.69123149e+04\n",
      "  6.82019060e+04 6.65317208e+04 5.84616330e+04 5.56355828e+04\n",
      "  6.38280182e+04 5.64787456e+04 5.09832729e+04 5.18346967e+04]\n",
      " [4.00652624e+05 4.25042921e+05 4.14955077e+05 3.94334834e+05\n",
      "  3.94536962e+05 4.01571225e+05 4.14013070e+05 4.07475112e+05\n",
      "  4.29051500e+05 4.20506322e+05 4.17116545e+05 4.17864706e+05\n",
      "  4.13569248e+05 4.22312884e+05 4.23168636e+05 4.28557610e+05\n",
      "  4.17662679e+05 4.08508590e+05 4.01878865e+05 3.83957624e+05\n",
      "  3.94235674e+05 3.68183438e+05 3.70491154e+05 3.69985595e+05]\n",
      " [1.05223823e+06 1.01411972e+06 9.65790835e+05 9.55977599e+05\n",
      "  9.39207328e+05 9.38148093e+05 9.58368725e+05 9.30768561e+05\n",
      "  9.22778540e+05 8.95336786e+05 8.99284993e+05 9.15634440e+05\n",
      "  8.99161567e+05 9.00377585e+05 8.86344630e+05 8.65958513e+05\n",
      "  8.77422457e+05 8.50795721e+05 8.53229941e+05 7.88422438e+05\n",
      "  8.32259203e+05 8.12483220e+05 8.17031440e+05 8.35792632e+05]\n",
      " [8.34037200e+04 8.33903547e+04 8.49490258e+04 8.42630079e+04\n",
      "  8.64258565e+04 8.69806458e+04 8.91344254e+04 9.38398699e+04\n",
      "  9.86631942e+04 9.79797784e+04 1.03019665e+05 1.05407308e+05\n",
      "  1.05051466e+05 1.09126568e+05 1.09571061e+05 1.13219822e+05\n",
      "  1.11777744e+05 1.14127554e+05 1.10255766e+05 1.03969784e+05\n",
      "  9.70350828e+04 9.41029440e+04 9.07105742e+04 8.29106260e+04]\n",
      " [7.31151986e+04 6.93927256e+04 6.20501264e+04 6.31749784e+04\n",
      "  6.15683746e+04 6.13544620e+04 6.29502532e+04 6.15499125e+04\n",
      "  6.10877638e+04 6.15931410e+04 5.83368071e+04 5.99957345e+04\n",
      "  5.89682278e+04 6.17668396e+04 6.02316620e+04 6.03295050e+04\n",
      "  5.97517311e+04 5.84190392e+04 5.73251623e+04 5.16306900e+04\n",
      "  5.21088928e+04 5.02728651e+04 4.67749448e+04 4.39308782e+04]\n",
      " [2.10602607e+03 2.04293698e+03 2.17261936e+03 2.29450464e+03\n",
      "  2.24836895e+03 2.29961365e+03 2.38591383e+03 2.45024392e+03\n",
      "  2.45023426e+03 2.65539473e+03 2.72893749e+03 2.71029473e+03\n",
      "  2.79590731e+03 2.79272313e+03 2.83702901e+03 2.79731459e+03\n",
      "  2.93927660e+03 3.23689534e+03 3.56720926e+03 3.52189071e+03\n",
      "  3.38355222e+03 3.29856769e+03 3.29057643e+03 3.30179631e+03]\n",
      " [3.27685268e+04 3.35084420e+04 3.33441024e+04 3.35749717e+04\n",
      "  3.46964857e+04 3.57187486e+04 3.73351081e+04 3.86755940e+04\n",
      "  4.05721759e+04 4.23020879e+04 4.51233354e+04 4.74827208e+04\n",
      "  4.59527302e+04 4.55543225e+04 4.60424022e+04 4.79522044e+04\n",
      "  4.74059667e+04 4.74931267e+04 4.71755403e+04 4.19963247e+04\n",
      "  4.15582751e+04 3.78951954e+04 3.80316187e+04 3.70494238e+04]\n",
      " [4.36204250e+05 4.35938614e+05 4.35535835e+05 4.29158009e+05\n",
      "  4.21404100e+05 4.47201169e+05 4.40235507e+05 4.44055434e+05\n",
      "  4.54967633e+05 4.59840642e+05 4.65175073e+05 4.71124277e+05\n",
      "  4.73504059e+05 4.89595508e+05 4.92746256e+05 4.90914263e+05\n",
      "  4.86594067e+05 4.78237711e+05 4.67933593e+05 4.18881077e+05\n",
      "  4.28879681e+05 4.16499534e+05 3.89340763e+05 3.62063649e+05]\n",
      " [1.15599362e+06 1.16447435e+06 1.17461901e+06 1.16771472e+06\n",
      "  1.22893669e+06 1.24249402e+06 1.25526420e+06 1.25305731e+06\n",
      "  1.21825776e+06 1.25308215e+06 1.27429799e+06 1.25738456e+06\n",
      "  1.29439920e+06 1.29949061e+06 1.29843389e+06 1.30593882e+06\n",
      "  1.28517784e+06 1.31979919e+06 1.23545581e+06 1.16260619e+06\n",
      "  1.21297023e+06 1.26186294e+06 1.29618636e+06 1.31150915e+06]\n",
      " [1.97942945e+04 1.80211952e+04 1.42446534e+04 1.19661455e+04\n",
      "  1.03991411e+04 9.14135352e+03 9.21638399e+03 8.67754581e+03\n",
      "  8.30059528e+03 7.70904999e+03 7.06994204e+03 7.48050261e+03\n",
      "  7.50874324e+03 7.70377151e+03 7.70946076e+03 7.79040393e+03\n",
      "  8.28920668e+03 8.61025540e+03 8.18497125e+03 7.44328601e+03\n",
      "  8.52408723e+03 7.80765941e+03 7.52112253e+03 7.35322044e+03]\n",
      " [3.58128937e+04 3.79086125e+04 2.12078874e+04 1.63471718e+04\n",
      "  1.57654148e+04 1.50225441e+04 1.56768310e+04 1.50862858e+04\n",
      "  1.59015176e+04 1.34221511e+04 1.18019649e+04 1.25079667e+04\n",
      "  1.26144250e+04 1.26052382e+04 1.31854934e+04 1.39468843e+04\n",
      "  1.43030327e+04 1.56240763e+04 1.49632547e+04 1.27271200e+04\n",
      "  1.36189127e+04 1.39190155e+04 1.39755232e+04 1.29878175e+04]\n",
      " [1.86047365e+03 2.04124609e+03 2.17463447e+03 2.25206277e+03\n",
      "  2.30277028e+03 2.31321609e+03 2.32918170e+03 2.33195473e+03\n",
      "  2.33806279e+03 2.41855556e+03 2.41428381e+03 2.55060406e+03\n",
      "  2.46421223e+03 2.66613433e+03 2.60474483e+03 2.73631293e+03\n",
      "  2.77631431e+03 2.83164226e+03 2.82240617e+03 2.68452129e+03\n",
      "  2.69051804e+03 2.78589657e+03 2.86863813e+03 2.47607443e+03]\n",
      " [1.62497560e+05 1.71081474e+05 1.70975243e+05 1.71497891e+05\n",
      "  1.75008703e+05 1.73196297e+05 1.82573583e+05 1.75487971e+05\n",
      "  1.76617169e+05 1.71228110e+05 1.72059812e+05 1.77037402e+05\n",
      "  1.76462401e+05 1.79867889e+05 1.81546257e+05 1.77540473e+05\n",
      "  1.72772893e+05 1.73178420e+05 1.76174418e+05 1.70796157e+05\n",
      "  1.82529787e+05 1.69792137e+05 1.65665024e+05 1.65475884e+05]\n",
      " [2.54197717e+04 2.61080645e+04 2.80997000e+04 2.76972273e+04\n",
      "  2.78790592e+04 2.81434576e+04 2.93682650e+04 3.13634526e+04\n",
      "  2.99275014e+04 3.15231861e+04 3.23559570e+04 3.45817228e+04\n",
      "  3.47682782e+04 3.64971710e+04 3.60636633e+04 3.76454343e+04\n",
      "  3.75191047e+04 3.66513715e+04 3.76740518e+04 3.48064021e+04\n",
      "  3.50172414e+04 3.43665827e+04 3.56210260e+04 3.50942867e+04]\n",
      " [3.56948244e+04 3.40709784e+04 3.48332478e+04 3.65207838e+04\n",
      "  3.84347652e+04 3.84649067e+04 4.15867086e+04 4.16831334e+04\n",
      "  4.19390379e+04 4.26917564e+04 4.21946192e+04 4.35303488e+04\n",
      "  4.26558748e+04 4.39067097e+04 4.43200049e+04 4.35482303e+04\n",
      "  4.39137448e+04 4.58428095e+04 4.48930942e+04 4.32120925e+04\n",
      "  4.58338921e+04 4.49468694e+04 4.45539657e+04 4.43090560e+04]\n",
      " [3.78782539e+05 3.75684157e+05 3.65865160e+05 3.66427661e+05\n",
      "  3.62012959e+05 3.63885778e+05 3.77308596e+05 3.68415853e+05\n",
      "  3.39145830e+05 3.29380898e+05 3.19120405e+05 3.15274094e+05\n",
      "  3.07535642e+05 3.20230170e+05 3.24279450e+05 3.23372578e+05\n",
      "  3.36500579e+05 3.36268111e+05 3.29338171e+05 3.15937966e+05\n",
      "  3.34026155e+05 3.33713651e+05 3.26597791e+05 3.22440487e+05]\n",
      " [4.58090714e+04 4.74068425e+04 5.18505657e+04 5.05021226e+04\n",
      "  5.13032041e+04 5.51343295e+04 5.23484688e+04 5.54542111e+04\n",
      "  5.99762099e+04 6.76128119e+04 6.64113299e+04 6.61137557e+04\n",
      "  6.99544945e+04 6.46972992e+04 6.74581591e+04 7.00345294e+04\n",
      "  6.54654197e+04 6.27911478e+04 6.05500402e+04 5.80041970e+04\n",
      "  5.35838859e+04 5.21506534e+04 5.02624224e+04 4.84955505e+04]\n",
      " [1.74731887e+05 1.43586608e+05 1.32732909e+05 1.24819100e+05\n",
      "  1.22610777e+05 1.28587004e+05 1.31939695e+05 1.23515853e+05\n",
      "  1.06813978e+05 9.04433508e+04 9.51909034e+04 1.00377987e+05\n",
      "  1.00655313e+05 1.05737481e+05 1.04575078e+05 1.02414252e+05\n",
      "  1.06175991e+05 1.04540351e+05 1.01035421e+05 8.52882940e+04\n",
      "  8.07957740e+04 8.61636343e+04 8.46612305e+04 7.40833582e+04]\n",
      " [2.58972531e+06 2.43318765e+06 2.01317548e+06 1.90957784e+06\n",
      "  1.68549455e+06 1.62949630e+06 1.58129322e+06 1.50207987e+06\n",
      "  1.47658893e+06 1.51265193e+06 1.50418273e+06 1.54250006e+06\n",
      "  1.53120021e+06 1.56851014e+06 1.57518086e+06 1.59393334e+06\n",
      "  1.65328919e+06 1.65313906e+06 1.68499982e+06 1.57670397e+06\n",
      "  1.66259226e+06 1.71722195e+06 1.72748910e+06 1.66664442e+06]\n",
      " [6.18375668e+04 5.34474400e+04 4.89791258e+04 4.64675492e+04\n",
      "  4.36384901e+04 4.46795450e+04 4.49789116e+04 4.50402697e+04\n",
      "  4.40169870e+04 4.31813145e+04 4.11550115e+04 4.34680934e+04\n",
      "  4.15935332e+04 4.20605502e+04 4.25769589e+04 4.25810225e+04\n",
      "  4.23204845e+04 4.07252998e+04 4.12363240e+04 3.74334334e+04\n",
      "  3.83859425e+04 3.78808531e+04 3.58678963e+04 3.53951549e+04]\n",
      " [1.50883050e+04 1.40072826e+04 1.40093986e+04 1.43039937e+04\n",
      "  1.46487255e+04 1.52777448e+04 1.59451761e+04 1.62755597e+04\n",
      "  1.59804778e+04 1.53530714e+04 1.54601542e+04 1.63847561e+04\n",
      "  1.65263127e+04 1.62893859e+04 1.66391711e+04 1.69383243e+04\n",
      "  1.71298020e+04 1.72723792e+04 1.82197304e+04 1.63282103e+04\n",
      "  1.63634298e+04 1.63482391e+04 1.58001872e+04 1.51487254e+04]\n",
      " [5.75465433e+04 5.77556347e+04 5.74820647e+04 5.74259514e+04\n",
      "  5.98769988e+04 5.93186727e+04 6.32387859e+04 5.81545297e+04\n",
      "  5.87334064e+04 5.58612192e+04 5.47304244e+04 5.56867457e+04\n",
      "  5.66318962e+04 5.72035991e+04 5.64288031e+04 5.38592057e+04\n",
      "  5.36976559e+04 5.29117267e+04 5.08315768e+04 4.72674467e+04\n",
      "  5.30577346e+04 4.91335869e+04 4.65596400e+04 4.48991519e+04]\n",
      " [4.41155341e+04 4.61448095e+04 4.59747025e+04 4.35562764e+04\n",
      "  4.26133037e+04 4.33684572e+04 4.40883349e+04 4.29716245e+04\n",
      "  4.45223714e+04 4.43545431e+04 4.35459597e+04 4.50022788e+04\n",
      "  4.33739856e+04 4.45879803e+04 4.51496671e+04 4.57780895e+04\n",
      "  4.53511720e+04 4.33603857e+04 4.46769440e+04 4.35090866e+04\n",
      "  4.50270645e+04 4.09731492e+04 4.22415536e+04 4.31816594e+04]\n",
      " [1.46750637e+05 1.52335174e+05 1.58571546e+05 1.67443152e+05\n",
      "  1.64623553e+05 1.78812409e+05 1.94751779e+05 2.08480070e+05\n",
      "  2.08365344e+05 2.06388620e+05 2.32549190e+05 2.17469503e+05\n",
      "  2.26365412e+05 2.40902463e+05 2.53172078e+05 2.79130741e+05\n",
      "  3.02195955e+05 3.33166419e+05 3.23536545e+05 3.10580701e+05\n",
      "  3.20356659e+05 3.38094408e+05 3.63126007e+05 3.54961042e+05]\n",
      " [6.93024767e+05 6.21305236e+05 5.77064260e+05 4.98504839e+05\n",
      "  4.09721674e+05 3.80871284e+05 3.44347189e+05 3.34208702e+05\n",
      "  3.09207663e+05 2.84109569e+05 2.71429774e+05 2.90774710e+05\n",
      "  2.81939350e+05 2.85720480e+05 2.96753732e+05 3.07341483e+05\n",
      "  3.25586622e+05 3.30087251e+05 3.17063844e+05 2.69598422e+05\n",
      "  2.87113606e+05 3.01273502e+05 2.95706064e+05 2.87436404e+05]\n",
      " [5.11509505e+06 5.06487975e+06 5.17027435e+06 5.28475862e+06\n",
      "  5.37749222e+06 5.44159923e+06 5.63011372e+06 5.70499687e+06\n",
      "  5.74467220e+06 5.81897239e+06 5.99243804e+06 5.89446294e+06\n",
      "  5.93573878e+06 5.98228917e+06 6.09697836e+06 6.12274661e+06\n",
      "  6.04239361e+06 6.12165386e+06 5.92320138e+06 5.48832028e+06\n",
      "  5.68875601e+06 5.55950766e+06 5.34922095e+06 5.50255071e+06]]\n"
     ]
    }
   ],
   "source": [
    "X = np.array([AustraliaC[0:24],AustriaC[0:24],BelarusC[0:24],BelgiumC[0:24],CanadaC[0:24],CroatiaC[0:24],\n",
    "              CyprusC[0:24],Czech_RepublicC[0:24],DenmarkC[0:24],EstoniaC[0:24],European_UnionC[0:24],\n",
    "              FinlandC[0:24],FranceC[0:24],GermanyC[0:24],GreeceC[0:24],HungaryC[0:24],IcelandC[0:24],\n",
    "              IrelandC[0:24],ItalyC[0:24],JapanC[0:24],LatviaC[0:24],LithuaniaC[0:24],MaltaC[0:24],\n",
    "              NetherlandsC[0:24],New_ZealandC[0:24],NorwayC[0:24],PolandC[0:24],PortugalC[0:24],\n",
    "              RomaniaC[0:24],Russian_FederationC[0:24],SlovakiaC[0:24],SloveniaC[0:24],SwedenC[0:24],\n",
    "              SwitzerlandC[0:24],TurkeyC[0:24],UkraineC[0:24],United_StatesC[0:24]])\n",
    "\n",
    "# X is a matrix of carbon dioxide values for each country or area in the dataset\n",
    "# Each row is for a country or area\n",
    "# Each column is for a year from 1990 to 2013\n",
    "\n",
    "print(X)"
   ]
  },
  {
   "cell_type": "code",
   "execution_count": 47,
   "metadata": {},
   "outputs": [
    {
     "name": "stdout",
     "output_type": "stream",
     "text": [
      "[[2.79741639e+05 2.84766093e+05 2.89142268e+05 2.93830709e+05\n",
      "  3.05162544e+05 3.11914820e+05 3.20439117e+05 3.34328143e+05\n",
      "  3.43713907e+05 3.49885433e+05 3.57653330e+05 3.61861388e+05\n",
      "  3.68345977e+05 3.81519262e+05 3.85581133e+05 3.91134101e+05\n",
      "  3.98816454e+05 4.04237828e+05 4.08448479e+05 4.06200993e+05\n",
      "  4.03705528e+05 4.06462848e+05 3.96913937e+05 3.93126947e+05]\n",
      " [6.59035133e+04 6.04322493e+04 6.07907577e+04 6.11891025e+04\n",
      "  6.42021592e+04 6.76672627e+04 6.74558927e+04 6.70472507e+04\n",
      "  6.56601336e+04 6.62747433e+04 7.02994711e+04 7.21265914e+04\n",
      "  7.80239539e+04 7.83889974e+04 7.95885019e+04 7.69349515e+04\n",
      "  7.42681107e+04 7.40662558e+04 6.76827251e+04 7.25318261e+04\n",
      "  7.03271670e+04 6.76986586e+04 6.79571211e+04 6.42625640e+04]\n",
      " [9.36491661e+04 8.70608103e+04 7.55517553e+04 6.24022791e+04\n",
      "  5.60059394e+04 5.72513557e+04 6.09718163e+04 5.74263296e+04\n",
      "  5.50339521e+04 5.36868575e+04 5.37838477e+04 5.38437044e+04\n",
      "  5.48451458e+04 5.84576476e+04 5.96647391e+04 6.22293989e+04\n",
      "  6.15638817e+04 6.38461038e+04 5.95962054e+04 6.16324927e+04\n",
      "  6.11284006e+04 6.06368514e+04 6.15109872e+04 6.06156457e+04]\n",
      " [1.23130653e+05 1.22217920e+05 1.21156965e+05 1.24426886e+05\n",
      "  1.25519442e+05 1.29010472e+05 1.23495743e+05 1.29737090e+05\n",
      "  1.24208072e+05 1.26315210e+05 1.25649371e+05 1.26015195e+05\n",
      "  1.27523990e+05 1.28640483e+05 1.25118017e+05 1.22319594e+05\n",
      "  1.18027409e+05 1.20362610e+05 1.07282544e+05 1.14155387e+05\n",
      "  1.04945714e+05 1.00931596e+05 1.01744737e+05 9.63254132e+04]\n",
      " [4.54246138e+05 4.68546459e+05 4.67607237e+05 4.82691671e+05\n",
      "  4.97224837e+05 5.10619682e+05 5.25120011e+05 5.33794454e+05\n",
      "  5.50183063e+05 5.72290386e+05 5.64617020e+05 5.69862146e+05\n",
      "  5.87306679e+05 5.85414861e+05 5.79225336e+05 5.73479270e+05\n",
      "  5.96041322e+05 5.77444930e+05 5.42829459e+05 5.55003760e+05\n",
      "  5.58152723e+05 5.63423613e+05 5.73094039e+05 5.74099776e+05]\n",
      " [1.72689103e+04 1.66071345e+04 1.70812280e+04 1.63421819e+04\n",
      "  1.69928004e+04 1.75878985e+04 1.86664670e+04 1.93723876e+04\n",
      "  2.02156532e+04 1.97891218e+04 2.09431100e+04 2.20311267e+04\n",
      "  2.33552211e+04 2.30052349e+04 2.34518458e+04 2.36849350e+04\n",
      "  2.49553759e+04 2.37153843e+04 2.19656353e+04 2.11837093e+04\n",
      "  2.06144405e+04 1.87763813e+04 1.83594998e+04 1.76073224e+04]\n",
      " [5.10708289e+03 5.48297487e+03 5.73367410e+03 5.97725710e+03\n",
      "  5.84804379e+03 6.15613213e+03 6.28703166e+03 6.58029615e+03\n",
      "  6.84765912e+03 7.09596438e+03 6.96946618e+03 7.16038846e+03\n",
      "  7.55008193e+03 7.77690940e+03 7.96198399e+03 8.15249231e+03\n",
      "  8.45866426e+03 8.62039558e+03 8.37239659e+03 8.00491202e+03\n",
      "  7.69666781e+03 7.16097188e+03 6.44961081e+03 6.87855531e+03]\n",
      " [1.46047340e+05 1.41565720e+05 1.35588566e+05 1.29188734e+05\n",
      "  1.29767166e+05 1.32234072e+05 1.28732639e+05 1.23696517e+05\n",
      "  1.15475260e+05 1.25841969e+05 1.25541536e+05 1.22593400e+05\n",
      "  1.26151649e+05 1.26876916e+05 1.24590138e+05 1.25923402e+05\n",
      "  1.26933163e+05 1.21780716e+05 1.13970029e+05 1.15757369e+05\n",
      "  1.14113147e+05 1.09841329e+05 1.06477089e+05 1.01159122e+05]\n",
      " [6.48748139e+04 5.89603115e+04 6.10386712e+04 6.49887809e+04\n",
      "  6.19141610e+04 7.51108410e+04 6.54578348e+04 6.11173416e+04\n",
      "  5.84564158e+04 5.41489050e+04 5.58451472e+04 5.53396717e+04\n",
      "  6.04939617e+04 5.49169106e+04 5.13072445e+04 5.91624996e+04\n",
      "  5.44290852e+04 5.09356715e+04 4.85922114e+04 4.89934174e+04\n",
      "  4.39707893e+04 3.95244020e+04 4.15370358e+04 3.74606565e+04]\n",
      " [3.36623725e+04 2.41878276e+04 1.88109639e+04 1.96264459e+04\n",
      "  1.79537360e+04 1.86661360e+04 1.82236043e+04 1.66843031e+04\n",
      "  1.55184906e+04 1.51413877e+04 1.54938610e+04 1.50202842e+04\n",
      "  1.68332143e+04 1.70550742e+04 1.63307338e+04 1.57195289e+04\n",
      "  1.87556479e+04 1.72645200e+04 1.41530052e+04 1.78337796e+04\n",
      "  1.84499309e+04 1.73046372e+04 1.95663684e+04 1.89187153e+04]\n",
      " [4.40372316e+06 4.25992281e+06 4.17710651e+06 4.16132132e+06\n",
      "  4.20448086e+06 4.30479328e+06 4.21652473e+06 4.20766603e+06\n",
      "  4.13900299e+06 4.16514544e+06 4.23203686e+06 4.20886012e+06\n",
      "  4.30610394e+06 4.31456087e+06 4.29058667e+06 4.29798816e+06\n",
      "  4.24421313e+06 4.14962430e+06 3.81430526e+06 3.93329052e+06\n",
      "  3.78976364e+06 3.72896503e+06 3.64638953e+06 3.46339756e+06]\n",
      " [5.51871795e+04 5.42643793e+04 5.63332680e+04 6.16963853e+04\n",
      "  5.81262475e+04 6.40389222e+04 6.26980868e+04 5.93514981e+04\n",
      "  5.88729308e+04 5.69733505e+04 6.24426401e+04 6.49464682e+04\n",
      "  7.25225902e+04 6.88218129e+04 5.69123149e+04 6.82019060e+04\n",
      "  6.65317208e+04 5.84616330e+04 5.56355828e+04 6.38280182e+04\n",
      "  5.64787456e+04 5.09832729e+04 5.18346967e+04 4.75977335e+04]\n",
      " [4.25042921e+05 4.14955077e+05 3.94334834e+05 3.94536962e+05\n",
      "  4.01571225e+05 4.14013070e+05 4.07475112e+05 4.29051500e+05\n",
      "  4.20506322e+05 4.17116545e+05 4.17864706e+05 4.13569248e+05\n",
      "  4.22312884e+05 4.23168636e+05 4.28557610e+05 4.17662679e+05\n",
      "  4.08508590e+05 4.01878865e+05 3.83957624e+05 3.94235674e+05\n",
      "  3.68183438e+05 3.70491154e+05 3.69985595e+05 3.41152532e+05]\n",
      " [1.01411972e+06 9.65790835e+05 9.55977599e+05 9.39207328e+05\n",
      "  9.38148093e+05 9.58368725e+05 9.30768561e+05 9.22778540e+05\n",
      "  8.95336786e+05 8.99284993e+05 9.15634440e+05 8.99161567e+05\n",
      "  9.00377585e+05 8.86344630e+05 8.65958513e+05 8.77422457e+05\n",
      "  8.50795721e+05 8.53229941e+05 7.88422438e+05 8.32259203e+05\n",
      "  8.12483220e+05 8.17031440e+05 8.35792632e+05 7.92902788e+05]\n",
      " [8.33903547e+04 8.49490258e+04 8.42630079e+04 8.64258565e+04\n",
      "  8.69806458e+04 8.91344254e+04 9.38398699e+04 9.86631942e+04\n",
      "  9.79797784e+04 1.03019665e+05 1.05407308e+05 1.05051466e+05\n",
      "  1.09126568e+05 1.09571061e+05 1.13219822e+05 1.11777744e+05\n",
      "  1.14127554e+05 1.10255766e+05 1.03969784e+05 9.70350828e+04\n",
      "  9.41029440e+04 9.07105742e+04 8.29106260e+04 7.96282744e+04]\n",
      " [6.93927256e+04 6.20501264e+04 6.31749784e+04 6.15683746e+04\n",
      "  6.13544620e+04 6.29502532e+04 6.15499125e+04 6.10877638e+04\n",
      "  6.15931410e+04 5.83368071e+04 5.99957345e+04 5.89682278e+04\n",
      "  6.17668396e+04 6.02316620e+04 6.03295050e+04 5.97517311e+04\n",
      "  5.84190392e+04 5.73251623e+04 5.16306900e+04 5.21088928e+04\n",
      "  5.02728651e+04 4.67749448e+04 4.39308782e+04 4.35734088e+04]\n",
      " [2.04293698e+03 2.17261936e+03 2.29450464e+03 2.24836895e+03\n",
      "  2.29961365e+03 2.38591383e+03 2.45024392e+03 2.45023426e+03\n",
      "  2.65539473e+03 2.72893749e+03 2.71029473e+03 2.79590731e+03\n",
      "  2.79272313e+03 2.83702901e+03 2.79731459e+03 2.93927660e+03\n",
      "  3.23689534e+03 3.56720926e+03 3.52189071e+03 3.38355222e+03\n",
      "  3.29856769e+03 3.29057643e+03 3.30179631e+03 3.27220823e+03]\n",
      " [3.35084420e+04 3.33441024e+04 3.35749717e+04 3.46964857e+04\n",
      "  3.57187486e+04 3.73351081e+04 3.86755940e+04 4.05721759e+04\n",
      "  4.23020879e+04 4.51233354e+04 4.74827208e+04 4.59527302e+04\n",
      "  4.55543225e+04 4.60424022e+04 4.79522044e+04 4.74059667e+04\n",
      "  4.74931267e+04 4.71755403e+04 4.19963247e+04 4.15582751e+04\n",
      "  3.78951954e+04 3.80316187e+04 3.70494238e+04 3.65590686e+04]\n",
      " [4.35938614e+05 4.35535835e+05 4.29158009e+05 4.21404100e+05\n",
      "  4.47201169e+05 4.40235507e+05 4.44055434e+05 4.54967633e+05\n",
      "  4.59840642e+05 4.65175073e+05 4.71124277e+05 4.73504059e+05\n",
      "  4.89595508e+05 4.92746256e+05 4.90914263e+05 4.86594067e+05\n",
      "  4.78237711e+05 4.67933593e+05 4.18881077e+05 4.28879681e+05\n",
      "  4.16499534e+05 3.89340763e+05 3.62063649e+05 3.42826677e+05]\n",
      " [1.16447435e+06 1.17461901e+06 1.16771472e+06 1.22893669e+06\n",
      "  1.24249402e+06 1.25526420e+06 1.25305731e+06 1.21825776e+06\n",
      "  1.25308215e+06 1.27429799e+06 1.25738456e+06 1.29439920e+06\n",
      "  1.29949061e+06 1.29843389e+06 1.30593882e+06 1.28517784e+06\n",
      "  1.31979919e+06 1.23545581e+06 1.16260619e+06 1.21297023e+06\n",
      "  1.26186294e+06 1.29618636e+06 1.31150915e+06 1.26549061e+06]\n",
      " [1.80211952e+04 1.42446534e+04 1.19661455e+04 1.03991411e+04\n",
      "  9.14135352e+03 9.21638399e+03 8.67754581e+03 8.30059528e+03\n",
      "  7.70904999e+03 7.06994204e+03 7.48050261e+03 7.50874324e+03\n",
      "  7.70377151e+03 7.70946076e+03 7.79040393e+03 8.28920668e+03\n",
      "  8.61025540e+03 8.18497125e+03 7.44328601e+03 8.52408723e+03\n",
      "  7.80765941e+03 7.52112253e+03 7.35322044e+03 7.15871804e+03]\n",
      " [3.79086125e+04 2.12078874e+04 1.63471718e+04 1.57654148e+04\n",
      "  1.50225441e+04 1.56768310e+04 1.50862858e+04 1.59015176e+04\n",
      "  1.34221511e+04 1.18019649e+04 1.25079667e+04 1.26144250e+04\n",
      "  1.26052382e+04 1.31854934e+04 1.39468843e+04 1.43030327e+04\n",
      "  1.56240763e+04 1.49632547e+04 1.27271200e+04 1.36189127e+04\n",
      "  1.39190155e+04 1.39755232e+04 1.29878175e+04 1.27327989e+04]\n",
      " [2.04124609e+03 2.17463447e+03 2.25206277e+03 2.30277028e+03\n",
      "  2.31321609e+03 2.32918170e+03 2.33195473e+03 2.33806279e+03\n",
      "  2.41855556e+03 2.41428381e+03 2.55060406e+03 2.46421223e+03\n",
      "  2.66613433e+03 2.60474483e+03 2.73631293e+03 2.77631431e+03\n",
      "  2.83164226e+03 2.82240617e+03 2.68452129e+03 2.69051804e+03\n",
      "  2.78589657e+03 2.86863813e+03 2.47607443e+03 2.48353679e+03]\n",
      " [1.71081474e+05 1.70975243e+05 1.71497891e+05 1.75008703e+05\n",
      "  1.73196297e+05 1.82573583e+05 1.75487971e+05 1.76617169e+05\n",
      "  1.71228110e+05 1.72059812e+05 1.77037402e+05 1.76462401e+05\n",
      "  1.79867889e+05 1.81546257e+05 1.77540473e+05 1.72772893e+05\n",
      "  1.73178420e+05 1.76174418e+05 1.70796157e+05 1.82529787e+05\n",
      "  1.69792137e+05 1.65665024e+05 1.65475884e+05 1.57789582e+05]\n",
      " [2.61080645e+04 2.80997000e+04 2.76972273e+04 2.78790592e+04\n",
      "  2.81434576e+04 2.93682650e+04 3.13634526e+04 2.99275014e+04\n",
      "  3.15231861e+04 3.23559570e+04 3.45817228e+04 3.47682782e+04\n",
      "  3.64971710e+04 3.60636633e+04 3.76454343e+04 3.75191047e+04\n",
      "  3.66513715e+04 3.76740518e+04 3.48064021e+04 3.50172414e+04\n",
      "  3.43665827e+04 3.56210260e+04 3.50942867e+04 3.56169853e+04]\n",
      " [3.40709784e+04 3.48332478e+04 3.65207838e+04 3.84347652e+04\n",
      "  3.84649067e+04 4.15867086e+04 4.16831334e+04 4.19390379e+04\n",
      "  4.26917564e+04 4.21946192e+04 4.35303488e+04 4.26558748e+04\n",
      "  4.39067097e+04 4.43200049e+04 4.35482303e+04 4.39137448e+04\n",
      "  4.58428095e+04 4.48930942e+04 4.32120925e+04 4.58338921e+04\n",
      "  4.49468694e+04 4.45539657e+04 4.43090560e+04 4.38694511e+04]\n",
      " [3.75684157e+05 3.65865160e+05 3.66427661e+05 3.62012959e+05\n",
      "  3.63885778e+05 3.77308596e+05 3.68415853e+05 3.39145830e+05\n",
      "  3.29380898e+05 3.19120405e+05 3.15274094e+05 3.07535642e+05\n",
      "  3.20230170e+05 3.24279450e+05 3.23372578e+05 3.36500579e+05\n",
      "  3.36268111e+05 3.29338171e+05 3.15937966e+05 3.34026155e+05\n",
      "  3.33713651e+05 3.26597791e+05 3.22440487e+05 3.10307297e+05]\n",
      " [4.74068425e+04 5.18505657e+04 5.05021226e+04 5.13032041e+04\n",
      "  5.51343295e+04 5.23484688e+04 5.54542111e+04 5.99762099e+04\n",
      "  6.76128119e+04 6.64113299e+04 6.61137557e+04 6.99544945e+04\n",
      "  6.46972992e+04 6.74581591e+04 7.00345294e+04 6.54654197e+04\n",
      "  6.27911478e+04 6.05500402e+04 5.80041970e+04 5.35838859e+04\n",
      "  5.21506534e+04 5.02624224e+04 4.84955505e+04 4.83536903e+04]\n",
      " [1.43586608e+05 1.32732909e+05 1.24819100e+05 1.22610777e+05\n",
      "  1.28587004e+05 1.31939695e+05 1.23515853e+05 1.06813978e+05\n",
      "  9.04433508e+04 9.51909034e+04 1.00377987e+05 1.00655313e+05\n",
      "  1.05737481e+05 1.04575078e+05 1.02414252e+05 1.06175991e+05\n",
      "  1.04540351e+05 1.01035421e+05 8.52882940e+04 8.07957740e+04\n",
      "  8.61636343e+04 8.46612305e+04 7.40833582e+04 7.40464676e+04]\n",
      " [2.43318765e+06 2.01317548e+06 1.90957784e+06 1.68549455e+06\n",
      "  1.62949630e+06 1.58129322e+06 1.50207987e+06 1.47658893e+06\n",
      "  1.51265193e+06 1.50418273e+06 1.54250006e+06 1.53120021e+06\n",
      "  1.56851014e+06 1.57518086e+06 1.59393334e+06 1.65328919e+06\n",
      "  1.65313906e+06 1.68499982e+06 1.57670397e+06 1.66259226e+06\n",
      "  1.71722195e+06 1.72748910e+06 1.66664442e+06 1.67156865e+06]\n",
      " [5.34474400e+04 4.89791258e+04 4.64675492e+04 4.36384901e+04\n",
      "  4.46795450e+04 4.49789116e+04 4.50402697e+04 4.40169870e+04\n",
      "  4.31813145e+04 4.11550115e+04 4.34680934e+04 4.15935332e+04\n",
      "  4.20605502e+04 4.25769589e+04 4.25810225e+04 4.23204845e+04\n",
      "  4.07252998e+04 4.12363240e+04 3.74334334e+04 3.83859425e+04\n",
      "  3.78808531e+04 3.58678963e+04 3.53951549e+04 3.33874287e+04]\n",
      " [1.40072826e+04 1.40093986e+04 1.43039937e+04 1.46487255e+04\n",
      "  1.52777448e+04 1.59451761e+04 1.62755597e+04 1.59804778e+04\n",
      "  1.53530714e+04 1.54601542e+04 1.63847561e+04 1.65263127e+04\n",
      "  1.62893859e+04 1.66391711e+04 1.69383243e+04 1.71298020e+04\n",
      "  1.72723792e+04 1.82197304e+04 1.63282103e+04 1.63634298e+04\n",
      "  1.63482391e+04 1.58001872e+04 1.51487254e+04 1.34899800e+04]\n",
      " [5.77556347e+04 5.74820647e+04 5.74259514e+04 5.98769988e+04\n",
      "  5.93186727e+04 6.32387859e+04 5.81545297e+04 5.87334064e+04\n",
      "  5.58612192e+04 5.47304244e+04 5.56867457e+04 5.66318962e+04\n",
      "  5.72035991e+04 5.64288031e+04 5.38592057e+04 5.36976559e+04\n",
      "  5.29117267e+04 5.08315768e+04 4.72674467e+04 5.30577346e+04\n",
      "  4.91335869e+04 4.65596400e+04 4.48991519e+04 4.34049032e+04]\n",
      " [4.61448095e+04 4.59747025e+04 4.35562764e+04 4.26133037e+04\n",
      "  4.33684572e+04 4.40883349e+04 4.29716245e+04 4.45223714e+04\n",
      "  4.43545431e+04 4.35459597e+04 4.50022788e+04 4.33739856e+04\n",
      "  4.45879803e+04 4.51496671e+04 4.57780895e+04 4.53511720e+04\n",
      "  4.33603857e+04 4.46769440e+04 4.35090866e+04 4.50270645e+04\n",
      "  4.09731492e+04 4.22415536e+04 4.31816594e+04 3.92650526e+04]\n",
      " [1.52335174e+05 1.58571546e+05 1.67443152e+05 1.64623553e+05\n",
      "  1.78812409e+05 1.94751779e+05 2.08480070e+05 2.08365344e+05\n",
      "  2.06388620e+05 2.32549190e+05 2.17469503e+05 2.26365412e+05\n",
      "  2.40902463e+05 2.53172078e+05 2.79130741e+05 3.02195955e+05\n",
      "  3.33166419e+05 3.23536545e+05 3.10580701e+05 3.20356659e+05\n",
      "  3.38094408e+05 3.63126007e+05 3.54961042e+05 3.82213402e+05]\n",
      " [6.21305236e+05 5.77064260e+05 4.98504839e+05 4.09721674e+05\n",
      "  3.80871284e+05 3.44347189e+05 3.34208702e+05 3.09207663e+05\n",
      "  2.84109569e+05 2.71429774e+05 2.90774710e+05 2.81939350e+05\n",
      "  2.85720480e+05 2.96753732e+05 3.07341483e+05 3.25586622e+05\n",
      "  3.30087251e+05 3.17063844e+05 2.69598422e+05 2.87113606e+05\n",
      "  3.01273502e+05 2.95706064e+05 2.87436404e+05 2.47561221e+05]\n",
      " [5.06487975e+06 5.17027435e+06 5.28475862e+06 5.37749222e+06\n",
      "  5.44159923e+06 5.63011372e+06 5.70499687e+06 5.74467220e+06\n",
      "  5.81897239e+06 5.99243804e+06 5.89446294e+06 5.93573878e+06\n",
      "  5.98228917e+06 6.09697836e+06 6.12274661e+06 6.04239361e+06\n",
      "  6.12165386e+06 5.92320138e+06 5.48832028e+06 5.68875601e+06\n",
      "  5.55950766e+06 5.34922095e+06 5.50255071e+06 5.55600658e+06]]\n"
     ]
    }
   ],
   "source": [
    "Xbar = np.array([AustraliaC[1:25],AustriaC[1:25],BelarusC[1:25],BelgiumC[1:25],CanadaC[1:25],CroatiaC[1:25],\n",
    "                 CyprusC[1:25],Czech_RepublicC[1:25],DenmarkC[1:25],EstoniaC[1:25],European_UnionC[1:25],\n",
    "                 FinlandC[1:25],FranceC[1:25],GermanyC[1:25],GreeceC[1:25],HungaryC[1:25],IcelandC[1:25],\n",
    "                 IrelandC[1:25],ItalyC[1:25],JapanC[1:25],LatviaC[1:25],LithuaniaC[1:25],MaltaC[1:25],\n",
    "                 NetherlandsC[1:25],New_ZealandC[1:25],NorwayC[1:25],PolandC[1:25],PortugalC[1:25],\n",
    "                 RomaniaC[1:25],Russian_FederationC[1:25],SlovakiaC[1:25],SloveniaC[1:25],SwedenC[1:25],\n",
    "                 SwitzerlandC[1:25],TurkeyC[1:25],UkraineC[1:25],United_StatesC[1:25]])\n",
    "\n",
    "# Xbar is a matrix of carbon dioxide values for each country or area in the dataset\n",
    "# Each row is for a country or area\n",
    "# Each column is for a year from 1991 to 2014\n",
    "\n",
    "print(Xbar)"
   ]
  },
  {
   "cell_type": "code",
   "execution_count": 48,
   "metadata": {},
   "outputs": [
    {
     "name": "stdout",
     "output_type": "stream",
     "text": [
      "[[4.18623050e+05 4.18674057e+05 4.23080108e+05 4.23764933e+05\n",
      "  4.24092959e+05 4.33478651e+05 4.39803962e+05 4.51721718e+05\n",
      "  4.66382112e+05 4.72245991e+05 4.83445827e+05 4.91441696e+05\n",
      "  4.94740101e+05 4.95154086e+05 5.11710242e+05 5.18850759e+05\n",
      "  5.22517192e+05 5.29842870e+05 5.33693508e+05 5.37889893e+05\n",
      "  5.33917436e+05 5.34089799e+05 5.37377571e+05 5.26882667e+05]\n",
      " [7.88446273e+04 8.26369035e+04 7.59309958e+04 7.59882270e+04\n",
      "  7.65034853e+04 7.98130345e+04 8.30088063e+04 8.24743920e+04\n",
      "  8.17708396e+04 8.01067172e+04 8.04293434e+04 8.43808069e+04\n",
      "  8.61295464e+04 9.20184811e+04 9.18358942e+04 9.28104872e+04\n",
      "  8.99810213e+04 8.72411545e+04 8.71011347e+04 8.01906514e+04\n",
      "  8.49460197e+04 8.26266380e+04 7.98971151e+04 8.00425418e+04]\n",
      " [1.33457162e+05 1.25601053e+05 1.16588686e+05 1.03951525e+05\n",
      "  8.82063567e+04 8.03697823e+04 8.23751942e+04 8.62825059e+04\n",
      "  8.26688316e+04 7.94978421e+04 7.79597250e+04 7.79218276e+04\n",
      "  7.66838679e+04 7.91587188e+04 8.36882996e+04 8.55960987e+04\n",
      "  8.94496554e+04 8.89206419e+04 9.23643490e+04 8.92236563e+04\n",
      "  9.11835494e+04 9.16717270e+04 9.09251146e+04 9.30372454e+04]\n",
      " [1.46021237e+05 1.48825699e+05 1.48384727e+05 1.47393395e+05\n",
      "  1.51882373e+05 1.54020294e+05 1.57656687e+05 1.49163456e+05\n",
      "  1.54340393e+05 1.48062444e+05 1.49213017e+05 1.47626133e+05\n",
      "  1.47240365e+05 1.47579070e+05 1.48971405e+05 1.44803082e+05\n",
      "  1.41046708e+05 1.36451339e+05 1.38749626e+05 1.25811802e+05\n",
      "  1.33258406e+05 1.22833396e+05 1.18761338e+05 1.19375302e+05]\n",
      " [6.16908111e+05 6.11861129e+05 6.25134003e+05 6.31353637e+05\n",
      "  6.52999138e+05 6.88384405e+05 6.90743642e+05 7.02636426e+05\n",
      "  7.28148997e+05 7.29415115e+05 7.45991031e+05 7.37198312e+05\n",
      "  7.52124481e+05 7.66107895e+05 7.69691185e+05 7.53897578e+05\n",
      "  7.46308214e+05 7.66021807e+05 7.43519659e+05 7.02098420e+05\n",
      "  7.18178080e+05 7.22862507e+05 7.29475889e+05 7.37423135e+05]\n",
      " [3.12046313e+04 2.44086838e+04 2.25380339e+04 2.26582945e+04\n",
      "  2.17127640e+04 2.22961672e+04 2.28829631e+04 2.41262738e+04\n",
      "  2.44597108e+04 2.55190834e+04 2.51729629e+04 2.63940457e+04\n",
      "  2.74200966e+04 2.87828213e+04 2.88759848e+04 2.92857516e+04\n",
      "  2.95556822e+04 3.09729121e+04 2.98259472e+04 2.79091257e+04\n",
      "  2.72802298e+04 2.67738263e+04 2.47346498e+04 2.37705528e+04]\n",
      " [5.62464992e+03 6.12152900e+03 6.55933064e+03 6.85874069e+03\n",
      "  7.10313268e+03 7.04693261e+03 7.34353788e+03 7.47309509e+03\n",
      "  7.79955926e+03 8.05908339e+03 8.32688573e+03 8.28254807e+03\n",
      "  8.51908140e+03 8.91458309e+03 9.14437142e+03 9.30798056e+03\n",
      "  9.56754719e+03 9.91323462e+03 1.00932700e+04 9.87218369e+03\n",
      "  9.57165722e+03 9.29616313e+03 8.76936603e+03 8.02009847e+03]\n",
      " [1.98621241e+05 1.79630548e+05 1.72740626e+05 1.64865693e+05\n",
      "  1.56919265e+05 1.57350403e+05 1.59496560e+05 1.55548726e+05\n",
      "  1.49574351e+05 1.40428950e+05 1.49753577e+05 1.49273387e+05\n",
      "  1.45622966e+05 1.48967238e+05 1.49733015e+05 1.47600477e+05\n",
      "  1.49389776e+05 1.50213503e+05 1.45567081e+05 1.37086779e+05\n",
      "  1.39148952e+05 1.37948619e+05 1.33778906e+05 1.29786734e+05]\n",
      " [7.14701832e+04 8.21639325e+04 7.62609911e+04 7.81381931e+04\n",
      "  8.20646645e+04 7.89848719e+04 9.19561005e+04 8.22646689e+04\n",
      "  7.80335456e+04 7.55202702e+04 7.10079297e+04 7.27571164e+04\n",
      "  7.22601099e+04 7.72126404e+04 7.10726799e+04 6.65946810e+04\n",
      "  7.43213577e+04 6.96611796e+04 6.59637634e+04 6.30666578e+04\n",
      "  6.34998367e+04 5.82443623e+04 5.34084070e+04 5.54350429e+04]\n",
      " [3.99651687e+04 3.67945626e+04 2.68764806e+04 2.10019712e+04\n",
      "  2.17131633e+04 1.99347906e+04 2.06317527e+04 2.02621584e+04\n",
      "  1.87058235e+04 1.73585005e+04 1.70618526e+04 1.74730230e+04\n",
      "  1.69300907e+04 1.87823647e+04 1.90554875e+04 1.82976747e+04\n",
      "  1.76864656e+04 2.08169353e+04 1.93746240e+04 1.61819654e+04\n",
      "  1.99116819e+04 2.04850360e+04 1.94233254e+04 2.16767063e+04]\n",
      " [5.66484584e+06 5.56639479e+06 5.38678905e+06 5.28767468e+06\n",
      "  5.26257791e+06 5.31316402e+06 5.42039775e+06 5.32056472e+06\n",
      "  5.27246207e+06 5.15973532e+06 5.16796822e+06 5.21892055e+06\n",
      "  5.17490787e+06 5.26152271e+06 5.25664734e+06 5.21665061e+06\n",
      "  5.20537470e+06 5.14622626e+06 5.03630424e+06 4.67279193e+06\n",
      "  4.78014828e+06 4.62439212e+06 4.55826986e+06 4.46737264e+06]\n",
      " [7.13385624e+04 6.90699525e+04 6.76572552e+04 6.98989317e+04\n",
      "  7.54015416e+04 7.18484218e+04 7.76358989e+04 7.62169344e+04\n",
      "  7.25478011e+04 7.19162672e+04 7.00095046e+04 7.53240562e+04\n",
      "  7.77409602e+04 8.52192987e+04 8.14339722e+04 6.95488578e+04\n",
      "  8.07390685e+04 7.92127392e+04 7.13245754e+04 6.76702912e+04\n",
      "  7.59309702e+04 6.80339654e+04 6.24037481e+04 6.32768885e+04]\n",
      " [5.51057030e+05 5.77151661e+05 5.65981293e+05 5.43333150e+05\n",
      "  5.42394754e+05 5.50558099e+05 5.65422013e+05 5.58839490e+05\n",
      "  5.75083631e+05 5.62048359e+05 5.58215973e+05 5.58213521e+05\n",
      "  5.52270726e+05 5.58762916e+05 5.56057007e+05 5.59398806e+05\n",
      "  5.47645150e+05 5.38725788e+05 5.31834047e+05 5.11294614e+05\n",
      "  5.19972333e+05 4.92623158e+05 4.93928804e+05 4.92151894e+05]\n",
      " [1.24982865e+06 1.20321926e+06 1.15290033e+06 1.14367490e+06\n",
      "  1.12425753e+06 1.12094390e+06 1.13876766e+06 1.10424375e+06\n",
      "  1.07864350e+06 1.04541971e+06 1.04329443e+06 1.05807010e+06\n",
      "  1.03694244e+06 1.03372766e+06 1.01729403e+06 9.91848687e+05\n",
      "  9.99043900e+05 9.71998326e+05 9.73942171e+05 9.06423029e+05\n",
      "  9.41038691e+05 9.21829744e+05 9.26338362e+05 9.45150948e+05]\n",
      " [1.04716492e+05 1.04767845e+05 1.06017539e+05 1.05565321e+05\n",
      "  1.08402558e+05 1.10704111e+05 1.13843046e+05 1.18682454e+05\n",
      "  1.24288894e+05 1.24462644e+05 1.27570605e+05 1.28248682e+05\n",
      "  1.28160998e+05 1.31655183e+05 1.32286024e+05 1.35924226e+05\n",
      "  1.32065257e+05 1.34852842e+05 1.31199952e+05 1.24697195e+05\n",
      "  1.18626518e+05 1.15576783e+05 1.12086436e+05 1.04564031e+05]\n",
      " [9.41339719e+04 8.73010680e+04 7.73121716e+04 7.81348874e+04\n",
      "  7.70261174e+04 7.57057802e+04 7.80159645e+04 7.65538080e+04\n",
      "  7.60670557e+04 7.66104957e+04 7.35566927e+04 7.56793480e+04\n",
      "  7.41535782e+04 7.71924006e+04 7.61264666e+04 7.59332770e+04\n",
      "  7.48803052e+04 7.30916196e+04 7.13403700e+04 6.50829235e+04\n",
      "  6.55236895e+04 6.38080142e+04 6.01069000e+04 5.75538333e+04]\n",
      " [3.63355801e+03 3.46343779e+03 3.34198724e+03 3.39256306e+03\n",
      "  3.32837102e+03 3.38900097e+03 3.47218388e+03 3.61085799e+03\n",
      "  3.75477436e+03 3.98084934e+03 3.96277281e+03 3.91135024e+03\n",
      "  3.93690101e+03 3.91859270e+03 3.94012142e+03 3.89768784e+03\n",
      "  4.45403499e+03 4.71481831e+03 5.14033616e+03 4.85577231e+03\n",
      "  4.73035143e+03 4.52022086e+03 4.55040348e+03 4.53466283e+03]\n",
      " [5.61685479e+04 5.69059454e+04 5.68894175e+04 5.71640758e+04\n",
      "  5.84505970e+04 5.98727469e+04 6.20021479e+04 6.35173014e+04\n",
      "  6.60032456e+04 6.71417469e+04 6.93249552e+04 7.13939184e+04\n",
      "  6.93712338e+04 6.96137987e+04 6.89326740e+04 7.03963261e+04\n",
      "  6.97951672e+04 6.90831959e+04 6.84510017e+04 6.28593798e+04\n",
      "  6.22990121e+04 5.81946676e+04 5.86852118e+04 5.85467273e+04]\n",
      " [5.21920601e+05 5.23489809e+05 5.19982778e+05 5.13611618e+05\n",
      "  5.05566539e+05 5.33449769e+05 5.26825536e+05 5.32739930e+05\n",
      "  5.43800430e+05 5.49495230e+05 5.54479290e+05 5.61600328e+05\n",
      "  5.61887952e+05 5.78126368e+05 5.80725580e+05 5.78904440e+05\n",
      "  5.69054805e+05 5.61137586e+05 5.49452729e+05 4.98894655e+05\n",
      "  5.08424098e+05 4.94789585e+05 4.68717916e+05 4.38887370e+05]\n",
      " [1.27074295e+06 1.28093770e+06 1.29440460e+06 1.28587666e+06\n",
      "  1.35826768e+06 1.37992454e+06 1.39310944e+06 1.38990699e+06\n",
      "  1.34584024e+06 1.36788609e+06 1.38671384e+06 1.35871551e+06\n",
      "  1.39033114e+06 1.39270215e+06 1.38959319e+06 1.39710182e+06\n",
      "  1.37786194e+06 1.41279507e+06 1.32716853e+06 1.25100358e+06\n",
      "  1.30490264e+06 1.35461601e+06 1.39033997e+06 1.40788323e+06]\n",
      " [2.63974022e+04 2.44141717e+04 1.96217639e+04 1.61860399e+04\n",
      "  1.42797116e+04 1.28591565e+04 1.29084611e+04 1.23431910e+04\n",
      "  1.18310662e+04 1.10376383e+04 1.04606848e+04 1.10600802e+04\n",
      "  1.10320062e+04 1.11856575e+04 1.11755965e+04 1.13959296e+04\n",
      "  1.19113660e+04 1.23769838e+04 1.19539856e+04 1.12338072e+04\n",
      "  1.23731196e+04 1.16345689e+04 1.15262094e+04 1.14509296e+04]\n",
      " [4.81902820e+04 5.02337706e+04 3.04468236e+04 2.45483044e+04\n",
      "  2.32345799e+04 2.24005086e+04 2.34682376e+04 2.29711069e+04\n",
      "  2.39013799e+04 2.12330732e+04 1.96052843e+04 2.05653986e+04\n",
      "  2.09859501e+04 2.12030139e+04 2.19844112e+04 2.30361383e+04\n",
      "  2.33784488e+04 2.53523511e+04 2.43945307e+04 1.99359191e+04\n",
      "  2.07551347e+04 2.12544575e+04 2.11126764e+04 1.98508290e+04]\n",
      " [2.00025178e+03 2.18915593e+03 2.33393788e+03 2.42270680e+03\n",
      "  2.48368565e+03 2.50068600e+03 2.51824209e+03 2.53005917e+03\n",
      "  2.52414375e+03 2.61024691e+03 2.62580577e+03 2.76912479e+03\n",
      "  2.68748314e+03 2.89302628e+03 2.84549961e+03 2.99916443e+03\n",
      "  3.09068317e+03 3.17682792e+03 3.18227960e+03 3.07396152e+03\n",
      "  3.09880571e+03 3.21170609e+03 3.32449702e+03 2.95395832e+03]\n",
      " [2.22182482e+05 2.29981115e+05 2.30665364e+05 2.31885947e+05\n",
      "  2.35538779e+05 2.32179185e+05 2.43054333e+05 2.35568928e+05\n",
      "  2.35646031e+05 2.22262485e+05 2.20250174e+05 2.20117418e+05\n",
      "  2.18138866e+05 2.18174535e+05 2.19308110e+05 2.14444895e+05\n",
      "  2.09389008e+05 2.08328352e+05 2.07659631e+05 2.01898385e+05\n",
      "  2.13760312e+05 2.00033683e+05 1.95295944e+05 1.95039408e+05]\n",
      " [6.58283805e+04 6.68226177e+04 6.79995000e+04 6.76317325e+04\n",
      "  6.88165833e+04 6.96414246e+04 7.18344612e+04 7.46379895e+04\n",
      "  7.22051449e+04 7.42643361e+04 7.63846869e+04 7.90586236e+04\n",
      "  7.96169981e+04 8.20215878e+04 8.16488273e+04 8.36662879e+04\n",
      "  8.36967494e+04 8.11578794e+04 8.10206461e+04 7.86247003e+04\n",
      "  7.89422909e+04 7.89415209e+04 8.08903639e+04 8.02983251e+04]\n",
      " [5.19217714e+04 4.95868891e+04 4.77786272e+04 4.98027845e+04\n",
      "  5.17044180e+04 5.14111493e+04 5.44110953e+04 5.43339464e+04\n",
      "  5.44990166e+04 5.54764362e+04 5.48833750e+04 5.61450028e+04\n",
      "  5.50605037e+04 5.56658919e+04 5.62140085e+04 5.52916168e+04\n",
      "  5.50716861e+04 5.69663456e+04 5.54409768e+04 5.26998529e+04\n",
      "  5.52990970e+04 5.43086438e+04 5.38723085e+04 5.35856324e+04]\n",
      " [4.72995974e+05 4.62432788e+05 4.47713504e+05 4.48350912e+05\n",
      "  4.43218560e+05 4.45272754e+05 4.58480440e+05 4.48855478e+05\n",
      "  4.15621322e+05 4.04031190e+05 3.92275757e+05 3.89931344e+05\n",
      "  3.79645914e+05 3.93065574e+05 3.97602771e+05 3.97413933e+05\n",
      "  4.11535544e+05 4.11240339e+05 4.03146506e+05 3.84946329e+05\n",
      "  4.03598931e+05 4.03271360e+05 3.96983549e+05 3.93091872e+05]\n",
      " [6.05520126e+04 6.23496784e+04 6.69798391e+04 6.56232879e+04\n",
      "  6.69358598e+04 7.13684217e+04 6.88341828e+04 7.21958182e+04\n",
      "  7.71952342e+04 8.51949945e+04 8.39308396e+04 8.38433293e+04\n",
      "  8.81558828e+04 8.29295440e+04 8.59950655e+04 8.85844251e+04\n",
      "  8.35554859e+04 8.10999493e+04 7.87341166e+04 7.59359020e+04\n",
      "  7.13335981e+04 6.97742214e+04 6.76812488e+04 6.58848578e+04]\n",
      " [2.54999123e+05 2.08477415e+05 1.90934822e+05 1.82011074e+05\n",
      "  1.78107904e+05 1.85010511e+05 1.87475719e+05 1.75492327e+05\n",
      "  1.55283126e+05 1.36767728e+05 1.42404667e+05 1.49257929e+05\n",
      "  1.48022889e+05 1.53271396e+05 1.51877025e+05 1.49329228e+05\n",
      "  1.51431555e+05 1.48708180e+05 1.43548869e+05 1.25528056e+05\n",
      "  1.19124981e+05 1.24264617e+05 1.22666954e+05 1.11933896e+05]\n",
      " [3.76755504e+06 3.53560002e+06 3.00276880e+06 2.80929452e+06\n",
      "  2.51169062e+06 2.42943244e+06 2.35476726e+06 2.26118347e+06\n",
      "  2.22967467e+06 2.26139154e+06 2.27449794e+06 2.33406689e+06\n",
      "  2.34253291e+06 2.42209779e+06 2.47123641e+06 2.50163791e+06\n",
      "  2.57441201e+06 2.58430906e+06 2.61646355e+06 2.48198779e+06\n",
      "  2.60248343e+06 2.66517926e+06 2.70092524e+06 2.64306460e+06]\n",
      " [7.42715107e+04 6.46445332e+04 5.92042798e+04 5.56892829e+04\n",
      "  5.30532990e+04 5.44055771e+04 5.47060659e+04 5.43969380e+04\n",
      "  5.29938430e+04 5.17004256e+04 4.97124777e+04 5.21276656e+04\n",
      "  5.01447587e+04 5.05865760e+04 5.13151625e+04 5.12873750e+04\n",
      "  5.12069150e+04 4.94050731e+04 5.00887365e+04 4.55576290e+04\n",
      "  4.64828738e+04 4.56040184e+04 4.31755885e+04 4.27924789e+04]\n",
      " [1.86164491e+04 1.73115291e+04 1.74100681e+04 1.76055382e+04\n",
      "  1.80044454e+04 1.87610180e+04 1.94402445e+04 1.97944667e+04\n",
      "  1.95203866e+04 1.88927990e+04 1.91262292e+04 2.00107198e+04\n",
      "  2.01598957e+04 1.98782472e+04 2.01984457e+04 2.05227384e+04\n",
      "  2.06949725e+04 2.08318366e+04 2.15235484e+04 1.95953672e+04\n",
      "  1.96187649e+04 1.96264640e+04 1.90354209e+04 1.83137815e+04]\n",
      " [7.19172596e+04 7.20412549e+04 7.15270504e+04 7.18071907e+04\n",
      "  7.42314889e+04 7.40293603e+04 7.75741002e+04 7.27722987e+04\n",
      "  7.30858642e+04 7.01817031e+04 6.88687688e+04 6.91921158e+04\n",
      "  7.01607817e+04 7.06013604e+04 6.95824418e+04 6.69683027e+04\n",
      "  6.69234245e+04 6.53726536e+04 6.31211225e+04 5.90527638e+04\n",
      "  6.49970874e+04 6.09871477e+04 5.75783591e+04 5.59395233e+04]\n",
      " [5.37199849e+04 5.56397238e+04 5.53284188e+04 5.26531435e+04\n",
      "  5.16210235e+04 5.24787556e+04 5.31862855e+04 5.19120054e+04\n",
      "  5.34927539e+04 5.32362713e+04 5.25034062e+04 5.40828663e+04\n",
      "  5.24811427e+04 5.36872737e+04 5.43087416e+04 5.49875709e+04\n",
      "  5.46097558e+04 5.26799643e+04 5.42100330e+04 5.29008178e+04\n",
      "  5.44980863e+04 5.04204744e+04 5.17596721e+04 5.26412178e+04]\n",
      " [2.07773321e+05 2.14128322e+05 2.20797144e+05 2.30628999e+05\n",
      "  2.24719235e+05 2.39039792e+05 2.56657080e+05 2.69942503e+05\n",
      "  2.71755933e+05 2.71357955e+05 2.96810835e+05 2.78784946e+05\n",
      "  2.87094568e+05 3.03694425e+05 3.16893705e+05 3.45231795e+05\n",
      "  3.71320553e+05 4.03392486e+05 3.93100908e+05 3.82513419e+05\n",
      "  3.95282510e+05 4.15868814e+05 4.47452331e+05 4.38819584e+05]\n",
      " [9.37954204e+05 8.53207752e+05 7.95446961e+05 7.05376576e+05\n",
      "  6.00339977e+05 5.57047936e+05 5.11686629e+05 4.96219978e+05\n",
      "  4.64400031e+05 4.37037554e+05 4.13923442e+05 4.33832546e+05\n",
      "  4.17502687e+05 4.17556109e+05 4.27912424e+05 4.35660662e+05\n",
      "  4.52089763e+05 4.55267445e+05 4.42172375e+05 3.84651788e+05\n",
      "  4.01929093e+05 4.21635993e+05 4.09531353e+05 4.01066966e+05]\n",
      " [6.39714449e+06 6.33093789e+06 6.44867715e+06 6.56641586e+06\n",
      "  6.65029660e+06 6.74852893e+06 6.94983800e+06 6.99999910e+06\n",
      "  7.06678816e+06 7.09044261e+06 7.25897312e+06 7.14089914e+06\n",
      "  7.18532814e+06 7.22497403e+06 7.36997003e+06 7.37877550e+06\n",
      "  7.31614446e+06 7.42220796e+06 7.21641507e+06 6.77622977e+06\n",
      "  6.98545705e+06 6.86539790e+06 6.64301058e+06 6.79997930e+06]]\n"
     ]
    }
   ],
   "source": [
    "Y = np.array([AustraliaG[0:24],AustriaG[0:24],BelarusG[0:24],BelgiumG[0:24],CanadaG[0:24],CroatiaG[0:24],\n",
    "              CyprusG[0:24],Czech_RepublicG[0:24],DenmarkG[0:24],EstoniaG[0:24],European_UnionG[0:24],\n",
    "              FinlandG[0:24],FranceG[0:24],GermanyG[0:24],GreeceG[0:24],HungaryG[0:24],IcelandG[0:24],\n",
    "              IrelandG[0:24],ItalyG[0:24],JapanG[0:24],LatviaG[0:24],LithuaniaG[0:24],MaltaG[0:24],\n",
    "              NetherlandsG[0:24],New_ZealandG[0:24],NorwayG[0:24],PolandG[0:24],PortugalG[0:24],\n",
    "              RomaniaG[0:24],Russian_FederationG[0:24],SlovakiaG[0:24],SloveniaG[0:24],SwedenG[0:24],\n",
    "              SwitzerlandG[0:24],TurkeyG[0:24],UkraineG[0:24],United_StatesG[0:24]])\n",
    "\n",
    "# Y is a matrix of greenhouse gas values for each country or area in the dataset\n",
    "# Each row is for a country or area\n",
    "# Each column is for a year from 1990 to 2013\n",
    "\n",
    "print(Y)"
   ]
  },
  {
   "cell_type": "code",
   "execution_count": 49,
   "metadata": {},
   "outputs": [
    {
     "name": "stdout",
     "output_type": "stream",
     "text": [
      "[[4.18674057e+05 4.23080108e+05 4.23764933e+05 4.24092959e+05\n",
      "  4.33478651e+05 4.39803962e+05 4.51721718e+05 4.66382112e+05\n",
      "  4.72245991e+05 4.83445827e+05 4.91441696e+05 4.94740101e+05\n",
      "  4.95154086e+05 5.11710242e+05 5.18850759e+05 5.22517192e+05\n",
      "  5.29842870e+05 5.33693508e+05 5.37889893e+05 5.33917436e+05\n",
      "  5.34089799e+05 5.37377571e+05 5.26882667e+05 5.22397091e+05]\n",
      " [8.26369035e+04 7.59309958e+04 7.59882270e+04 7.65034853e+04\n",
      "  7.98130345e+04 8.30088063e+04 8.24743920e+04 8.17708396e+04\n",
      "  8.01067172e+04 8.04293434e+04 8.43808069e+04 8.61295464e+04\n",
      "  9.20184811e+04 9.18358942e+04 9.28104872e+04 8.99810213e+04\n",
      "  8.72411545e+04 8.71011347e+04 8.01906514e+04 8.49460197e+04\n",
      "  8.26266380e+04 7.98971151e+04 8.00425418e+04 7.63326186e+04]\n",
      " [1.25601053e+05 1.16588686e+05 1.03951525e+05 8.82063567e+04\n",
      "  8.03697823e+04 8.23751942e+04 8.62825059e+04 8.26688316e+04\n",
      "  7.94978421e+04 7.79597250e+04 7.79218276e+04 7.66838679e+04\n",
      "  7.91587188e+04 8.36882996e+04 8.55960987e+04 8.94496554e+04\n",
      "  8.89206419e+04 9.23643490e+04 8.92236563e+04 9.11835494e+04\n",
      "  9.16717270e+04 9.09251146e+04 9.30372454e+04 9.18956466e+04]\n",
      " [1.48825699e+05 1.48384727e+05 1.47393395e+05 1.51882373e+05\n",
      "  1.54020294e+05 1.57656687e+05 1.49163456e+05 1.54340393e+05\n",
      "  1.48062444e+05 1.49213017e+05 1.47626133e+05 1.47240365e+05\n",
      "  1.47579070e+05 1.48971405e+05 1.44803082e+05 1.41046708e+05\n",
      "  1.36451339e+05 1.38749626e+05 1.25811802e+05 1.33258406e+05\n",
      "  1.22833396e+05 1.18761338e+05 1.19375302e+05 1.13866619e+05]\n",
      " [6.11861129e+05 6.25134003e+05 6.31353637e+05 6.52999138e+05\n",
      "  6.88384405e+05 6.90743642e+05 7.02636426e+05 7.28148997e+05\n",
      "  7.29415115e+05 7.45991031e+05 7.37198312e+05 7.52124481e+05\n",
      "  7.66107895e+05 7.69691185e+05 7.53897578e+05 7.46308214e+05\n",
      "  7.66021807e+05 7.43519659e+05 7.02098420e+05 7.18178080e+05\n",
      "  7.22862507e+05 7.29475889e+05 7.37423135e+05 7.47171873e+05]\n",
      " [2.44086838e+04 2.25380339e+04 2.26582945e+04 2.17127640e+04\n",
      "  2.22961672e+04 2.28829631e+04 2.41262738e+04 2.44597108e+04\n",
      "  2.55190834e+04 2.51729629e+04 2.63940457e+04 2.74200966e+04\n",
      "  2.87828213e+04 2.88759848e+04 2.92857516e+04 2.95556822e+04\n",
      "  3.09729121e+04 2.98259472e+04 2.79091257e+04 2.72802298e+04\n",
      "  2.67738263e+04 2.47346498e+04 2.37705528e+04 2.28988782e+04]\n",
      " [6.12152900e+03 6.55933064e+03 6.85874069e+03 7.10313268e+03\n",
      "  7.04693261e+03 7.34353788e+03 7.47309509e+03 7.79955926e+03\n",
      "  8.05908339e+03 8.32688573e+03 8.28254807e+03 8.51908140e+03\n",
      "  8.91458309e+03 9.14437142e+03 9.30798056e+03 9.56754719e+03\n",
      "  9.91323462e+03 1.00932700e+04 9.87218369e+03 9.57165722e+03\n",
      "  9.29616313e+03 8.76936603e+03 8.02009847e+03 8.45376741e+03]\n",
      " [1.79630548e+05 1.72740626e+05 1.64865693e+05 1.56919265e+05\n",
      "  1.57350403e+05 1.59496560e+05 1.55548726e+05 1.49574351e+05\n",
      "  1.40428950e+05 1.49753577e+05 1.49273387e+05 1.45622966e+05\n",
      "  1.48967238e+05 1.49733015e+05 1.47600477e+05 1.49389776e+05\n",
      "  1.50213503e+05 1.45567081e+05 1.37086779e+05 1.39148952e+05\n",
      "  1.37948619e+05 1.33778906e+05 1.29786734e+05 1.25033106e+05]\n",
      " [8.21639325e+04 7.62609911e+04 7.81381931e+04 8.20646645e+04\n",
      "  7.89848719e+04 9.19561005e+04 8.22646689e+04 7.80335456e+04\n",
      "  7.55202702e+04 7.10079297e+04 7.27571164e+04 7.22601099e+04\n",
      "  7.72126404e+04 7.10726799e+04 6.65946810e+04 7.43213577e+04\n",
      "  6.96611796e+04 6.59637634e+04 6.30666578e+04 6.34998367e+04\n",
      "  5.82443623e+04 5.34084070e+04 5.54350429e+04 5.12066724e+04]\n",
      " [3.67945626e+04 2.68764806e+04 2.10019712e+04 2.17131633e+04\n",
      "  1.99347906e+04 2.06317527e+04 2.02621584e+04 1.87058235e+04\n",
      "  1.73585005e+04 1.70618526e+04 1.74730230e+04 1.69300907e+04\n",
      "  1.87823647e+04 1.90554875e+04 1.82976747e+04 1.76864656e+04\n",
      "  2.08169353e+04 1.93746240e+04 1.61819654e+04 1.99116819e+04\n",
      "  2.04850360e+04 1.94233254e+04 2.16767063e+04 2.10592401e+04]\n",
      " [5.56639479e+06 5.38678905e+06 5.28767468e+06 5.26257791e+06\n",
      "  5.31316402e+06 5.42039775e+06 5.32056472e+06 5.27246207e+06\n",
      "  5.15973532e+06 5.16796822e+06 5.21892055e+06 5.17490787e+06\n",
      "  5.26152271e+06 5.25664734e+06 5.21665061e+06 5.20537470e+06\n",
      "  5.14622626e+06 5.03630424e+06 4.67279193e+06 4.78014828e+06\n",
      "  4.62439212e+06 4.55826986e+06 4.46737264e+06 4.28215678e+06]\n",
      " [6.90699525e+04 6.76572552e+04 6.98989317e+04 7.54015416e+04\n",
      "  7.18484218e+04 7.76358989e+04 7.62169344e+04 7.25478011e+04\n",
      "  7.19162672e+04 7.00095046e+04 7.53240562e+04 7.77409602e+04\n",
      "  8.52192987e+04 8.14339722e+04 6.95488578e+04 8.07390685e+04\n",
      "  7.92127392e+04 7.13245754e+04 6.76702912e+04 7.59309702e+04\n",
      "  6.80339654e+04 6.24037481e+04 6.32768885e+04 5.91050772e+04]\n",
      " [5.77151661e+05 5.65981293e+05 5.43333150e+05 5.42394754e+05\n",
      "  5.50558099e+05 5.65422013e+05 5.58839490e+05 5.75083631e+05\n",
      "  5.62048359e+05 5.58215973e+05 5.58213521e+05 5.52270726e+05\n",
      "  5.58762916e+05 5.56057007e+05 5.59398806e+05 5.47645150e+05\n",
      "  5.38725788e+05 5.31834047e+05 5.11294614e+05 5.19972333e+05\n",
      "  4.92623158e+05 4.93928804e+05 4.92151894e+05 4.65369527e+05]\n",
      " [1.20321926e+06 1.15290033e+06 1.14367490e+06 1.12425753e+06\n",
      "  1.12094390e+06 1.13876766e+06 1.10424375e+06 1.07864350e+06\n",
      "  1.04541971e+06 1.04329443e+06 1.05807010e+06 1.03694244e+06\n",
      "  1.03372766e+06 1.01729403e+06 9.91848687e+05 9.99043900e+05\n",
      "  9.71998326e+05 9.73942171e+05 9.06423029e+05 9.41038691e+05\n",
      "  9.21829744e+05 9.26338362e+05 9.45150948e+05 9.01763939e+05]\n",
      " [1.04767845e+05 1.06017539e+05 1.05565321e+05 1.08402558e+05\n",
      "  1.10704111e+05 1.13843046e+05 1.18682454e+05 1.24288894e+05\n",
      "  1.24462644e+05 1.27570605e+05 1.28248682e+05 1.28160998e+05\n",
      "  1.31655183e+05 1.32286024e+05 1.35924226e+05 1.32065257e+05\n",
      "  1.34852842e+05 1.31199952e+05 1.24697195e+05 1.18626518e+05\n",
      "  1.15576783e+05 1.12086436e+05 1.04564031e+05 1.01298184e+05]\n",
      " [8.73010680e+04 7.73121716e+04 7.81348874e+04 7.70261174e+04\n",
      "  7.57057802e+04 7.80159645e+04 7.65538080e+04 7.60670557e+04\n",
      "  7.66104957e+04 7.35566927e+04 7.56793480e+04 7.41535782e+04\n",
      "  7.71924006e+04 7.61264666e+04 7.59332770e+04 7.48803052e+04\n",
      "  7.30916196e+04 7.13403700e+04 6.50829235e+04 6.55236895e+04\n",
      "  6.38080142e+04 6.01069000e+04 5.75538333e+04 5.72251553e+04]\n",
      " [3.46343779e+03 3.34198724e+03 3.39256306e+03 3.32837102e+03\n",
      "  3.38900097e+03 3.47218388e+03 3.61085799e+03 3.75477436e+03\n",
      "  3.98084934e+03 3.96277281e+03 3.91135024e+03 3.93690101e+03\n",
      "  3.91859270e+03 3.94012142e+03 3.89768784e+03 4.45403499e+03\n",
      "  4.71481831e+03 5.14033616e+03 4.85577231e+03 4.73035143e+03\n",
      "  4.52022086e+03 4.55040348e+03 4.53466283e+03 4.59684733e+03]\n",
      " [5.69059454e+04 5.68894175e+04 5.71640758e+04 5.84505970e+04\n",
      "  5.98727469e+04 6.20021479e+04 6.35173014e+04 6.60032456e+04\n",
      "  6.71417469e+04 6.93249552e+04 7.13939184e+04 6.93712338e+04\n",
      "  6.96137987e+04 6.89326740e+04 7.03963261e+04 6.97951672e+04\n",
      "  6.90831959e+04 6.84510017e+04 6.28593798e+04 6.22990121e+04\n",
      "  5.81946676e+04 5.86852118e+04 5.85467273e+04 5.82536714e+04]\n",
      " [5.23489809e+05 5.19982778e+05 5.13611618e+05 5.05566539e+05\n",
      "  5.33449769e+05 5.26825536e+05 5.32739930e+05 5.43800430e+05\n",
      "  5.49495230e+05 5.54479290e+05 5.61600328e+05 5.61887952e+05\n",
      "  5.78126368e+05 5.80725580e+05 5.78904440e+05 5.69054805e+05\n",
      "  5.61137586e+05 5.49452729e+05 4.98894655e+05 5.08424098e+05\n",
      "  4.94789585e+05 4.68717916e+05 4.38887370e+05 4.18587215e+05]\n",
      " [1.28093770e+06 1.29440460e+06 1.28587666e+06 1.35826768e+06\n",
      "  1.37992454e+06 1.39310944e+06 1.38990699e+06 1.34584024e+06\n",
      "  1.36788609e+06 1.38671384e+06 1.35871551e+06 1.39033114e+06\n",
      "  1.39270215e+06 1.38959319e+06 1.39710182e+06 1.37786194e+06\n",
      "  1.41279507e+06 1.32716853e+06 1.25100358e+06 1.30490264e+06\n",
      "  1.35461601e+06 1.39033997e+06 1.40788323e+06 1.36386231e+06]\n",
      " [2.44141717e+04 1.96217639e+04 1.61860399e+04 1.42797116e+04\n",
      "  1.28591565e+04 1.29084611e+04 1.23431910e+04 1.18310662e+04\n",
      "  1.10376383e+04 1.04606848e+04 1.10600802e+04 1.10320062e+04\n",
      "  1.11856575e+04 1.11755965e+04 1.13959296e+04 1.19113660e+04\n",
      "  1.23769838e+04 1.19539856e+04 1.12338072e+04 1.23731196e+04\n",
      "  1.16345689e+04 1.15262094e+04 1.14509296e+04 1.13932936e+04]\n",
      " [5.02337706e+04 3.04468236e+04 2.45483044e+04 2.32345799e+04\n",
      "  2.24005086e+04 2.34682376e+04 2.29711069e+04 2.39013799e+04\n",
      "  2.12330732e+04 1.96052843e+04 2.05653986e+04 2.09859501e+04\n",
      "  2.12030139e+04 2.19844112e+04 2.30361383e+04 2.33784488e+04\n",
      "  2.53523511e+04 2.43945307e+04 1.99359191e+04 2.07551347e+04\n",
      "  2.12544575e+04 2.11126764e+04 1.98508290e+04 1.97777498e+04]\n",
      " [2.18915593e+03 2.33393788e+03 2.42270680e+03 2.48368565e+03\n",
      "  2.50068600e+03 2.51824209e+03 2.53005917e+03 2.52414375e+03\n",
      "  2.61024691e+03 2.62580577e+03 2.76912479e+03 2.68748314e+03\n",
      "  2.89302628e+03 2.84549961e+03 2.99916443e+03 3.09068317e+03\n",
      "  3.17682792e+03 3.18227960e+03 3.07396152e+03 3.09880571e+03\n",
      "  3.21170609e+03 3.32449702e+03 2.95395832e+03 2.98264479e+03]\n",
      " [2.29981115e+05 2.30665364e+05 2.31885947e+05 2.35538779e+05\n",
      "  2.32179185e+05 2.43054333e+05 2.35568928e+05 2.35646031e+05\n",
      "  2.22262485e+05 2.20250174e+05 2.20117418e+05 2.18138866e+05\n",
      "  2.18174535e+05 2.19308110e+05 2.14444895e+05 2.09389008e+05\n",
      "  2.08328352e+05 2.07659631e+05 2.01898385e+05 2.13760312e+05\n",
      "  2.00033683e+05 1.95295944e+05 1.95039408e+05 1.87056884e+05]\n",
      " [6.68226177e+04 6.79995000e+04 6.76317325e+04 6.88165833e+04\n",
      "  6.96414246e+04 7.18344612e+04 7.46379895e+04 7.22051449e+04\n",
      "  7.42643361e+04 7.63846869e+04 7.90586236e+04 7.96169981e+04\n",
      "  8.20215878e+04 8.16488273e+04 8.36662879e+04 8.36967494e+04\n",
      "  8.11578794e+04 8.10206461e+04 7.86247003e+04 7.89422909e+04\n",
      "  7.89415209e+04 8.08903639e+04 8.02983251e+04 8.11044291e+04]\n",
      " [4.95868891e+04 4.77786272e+04 4.98027845e+04 5.17044180e+04\n",
      "  5.14111493e+04 5.44110953e+04 5.43339464e+04 5.44990166e+04\n",
      "  5.54764362e+04 5.48833750e+04 5.61450028e+04 5.50605037e+04\n",
      "  5.56658919e+04 5.62140085e+04 5.52916168e+04 5.50716861e+04\n",
      "  5.69663456e+04 5.54409768e+04 5.26998529e+04 5.52990970e+04\n",
      "  5.43086438e+04 5.38723085e+04 5.35856324e+04 5.31906072e+04]\n",
      " [4.62432788e+05 4.47713504e+05 4.48350912e+05 4.43218560e+05\n",
      "  4.45272754e+05 4.58480440e+05 4.48855478e+05 4.15621322e+05\n",
      "  4.04031190e+05 3.92275757e+05 3.89931344e+05 3.79645914e+05\n",
      "  3.93065574e+05 3.97602771e+05 3.97413933e+05 4.11535544e+05\n",
      "  4.11240339e+05 4.03146506e+05 3.84946329e+05 4.03598931e+05\n",
      "  4.03271360e+05 3.96983549e+05 3.93091872e+05 3.80037566e+05]\n",
      " [6.23496784e+04 6.69798391e+04 6.56232879e+04 6.69358598e+04\n",
      "  7.13684217e+04 6.88341828e+04 7.21958182e+04 7.71952342e+04\n",
      "  8.51949945e+04 8.39308396e+04 8.38433293e+04 8.81558828e+04\n",
      "  8.29295440e+04 8.59950655e+04 8.85844251e+04 8.35554859e+04\n",
      "  8.10999493e+04 7.87341166e+04 7.59359020e+04 7.13335981e+04\n",
      "  6.97742214e+04 6.76812488e+04 6.58848578e+04 6.57478222e+04]\n",
      " [2.08477415e+05 1.90934822e+05 1.82011074e+05 1.78107904e+05\n",
      "  1.85010511e+05 1.87475719e+05 1.75492327e+05 1.55283126e+05\n",
      "  1.36767728e+05 1.42404667e+05 1.49257929e+05 1.48022889e+05\n",
      "  1.53271396e+05 1.51877025e+05 1.49329228e+05 1.51431555e+05\n",
      "  1.48708180e+05 1.43548869e+05 1.25528056e+05 1.19124981e+05\n",
      "  1.24264617e+05 1.22666954e+05 1.11933896e+05 1.11612811e+05]\n",
      " [3.53560002e+06 3.00276880e+06 2.80929452e+06 2.51169062e+06\n",
      "  2.42943244e+06 2.35476726e+06 2.26118347e+06 2.22967467e+06\n",
      "  2.26139154e+06 2.27449794e+06 2.33406689e+06 2.34253291e+06\n",
      "  2.42209779e+06 2.47123641e+06 2.50163791e+06 2.57441201e+06\n",
      "  2.58430906e+06 2.61646355e+06 2.48198779e+06 2.60248343e+06\n",
      "  2.66517926e+06 2.70092524e+06 2.64306460e+06 2.64887335e+06]\n",
      " [6.46445332e+04 5.92042798e+04 5.56892829e+04 5.30532990e+04\n",
      "  5.44055771e+04 5.47060659e+04 5.43969380e+04 5.29938430e+04\n",
      "  5.17004256e+04 4.97124777e+04 5.21276656e+04 5.01447587e+04\n",
      "  5.05865760e+04 5.13151625e+04 5.12873750e+04 5.12069150e+04\n",
      "  4.94050731e+04 5.00887365e+04 4.55576290e+04 4.64828738e+04\n",
      "  4.56040184e+04 4.31755885e+04 4.27924789e+04 4.06576017e+04]\n",
      " [1.73115291e+04 1.74100681e+04 1.76055382e+04 1.80044454e+04\n",
      "  1.87610180e+04 1.94402445e+04 1.97944667e+04 1.95203866e+04\n",
      "  1.88927990e+04 1.91262292e+04 2.00107198e+04 2.01598957e+04\n",
      "  1.98782472e+04 2.01984457e+04 2.05227384e+04 2.06949725e+04\n",
      "  2.08318366e+04 2.15235484e+04 1.95953672e+04 1.96187649e+04\n",
      "  1.96264640e+04 1.90354209e+04 1.83137815e+04 1.65823119e+04]\n",
      " [7.20412549e+04 7.15270504e+04 7.18071907e+04 7.42314889e+04\n",
      "  7.40293603e+04 7.75741002e+04 7.27722987e+04 7.30858642e+04\n",
      "  7.01817031e+04 6.88687688e+04 6.91921158e+04 7.01607817e+04\n",
      "  7.06013604e+04 6.95824418e+04 6.69683027e+04 6.69234245e+04\n",
      "  6.53726536e+04 6.31211225e+04 5.90527638e+04 6.49970874e+04\n",
      "  6.09871477e+04 5.75783591e+04 5.59395233e+04 5.43827373e+04]\n",
      " [5.56397238e+04 5.53284188e+04 5.26531435e+04 5.16210235e+04\n",
      "  5.24787556e+04 5.31862855e+04 5.19120054e+04 5.34927539e+04\n",
      "  5.32362713e+04 5.25034062e+04 5.40828663e+04 5.24811427e+04\n",
      "  5.36872737e+04 5.43087416e+04 5.49875709e+04 5.46097558e+04\n",
      "  5.26799643e+04 5.42100330e+04 5.29008178e+04 5.44980863e+04\n",
      "  5.04204744e+04 5.17596721e+04 5.26412178e+04 4.87378667e+04]\n",
      " [2.14128322e+05 2.20797144e+05 2.30628999e+05 2.24719235e+05\n",
      "  2.39039792e+05 2.56657080e+05 2.69942503e+05 2.71755933e+05\n",
      "  2.71357955e+05 2.96810835e+05 2.78784946e+05 2.87094568e+05\n",
      "  3.03694425e+05 3.16893705e+05 3.45231795e+05 3.71320553e+05\n",
      "  4.03392486e+05 3.93100908e+05 3.82513419e+05 3.95282510e+05\n",
      "  4.15868814e+05 4.47452331e+05 4.38819584e+05 4.67550377e+05]\n",
      " [8.53207752e+05 7.95446961e+05 7.05376576e+05 6.00339977e+05\n",
      "  5.57047936e+05 5.11686629e+05 4.96219978e+05 4.64400031e+05\n",
      "  4.37037554e+05 4.13923442e+05 4.33832546e+05 4.17502687e+05\n",
      "  4.17556109e+05 4.27912424e+05 4.35660662e+05 4.52089763e+05\n",
      "  4.55267445e+05 4.42172375e+05 3.84651788e+05 4.01929093e+05\n",
      "  4.21635993e+05 4.09531353e+05 4.01066966e+05 3.54347537e+05]\n",
      " [6.33093789e+06 6.44867715e+06 6.56641586e+06 6.65029660e+06\n",
      "  6.74852893e+06 6.94983800e+06 6.99999910e+06 7.06678816e+06\n",
      "  7.09044261e+06 7.25897312e+06 7.14089914e+06 7.18532814e+06\n",
      "  7.22497403e+06 7.36997003e+06 7.37877550e+06 7.31614446e+06\n",
      "  7.42220796e+06 7.21641507e+06 6.77622977e+06 6.98545705e+06\n",
      "  6.86539790e+06 6.64301058e+06 6.79997930e+06 6.87044609e+06]]\n"
     ]
    }
   ],
   "source": [
    "Ybar = np.array([AustraliaG[1:25],AustriaG[1:25],BelarusG[1:25],BelgiumG[1:25],CanadaG[1:25],CroatiaG[1:25],\n",
    "                 CyprusG[1:25],Czech_RepublicG[1:25],DenmarkG[1:25],EstoniaG[1:25],European_UnionG[1:25],\n",
    "                 FinlandG[1:25],FranceG[1:25],GermanyG[1:25],GreeceG[1:25],HungaryG[1:25],IcelandG[1:25],\n",
    "                 IrelandG[1:25],ItalyG[1:25],JapanG[1:25],LatviaG[1:25],LithuaniaG[1:25],MaltaG[1:25],\n",
    "                 NetherlandsG[1:25],New_ZealandG[1:25],NorwayG[1:25],PolandG[1:25],PortugalG[1:25],\n",
    "                 RomaniaG[1:25],Russian_FederationG[1:25],SlovakiaG[1:25],SloveniaG[1:25],SwedenG[1:25],\n",
    "                 SwitzerlandG[1:25],TurkeyG[1:25],UkraineG[1:25],United_StatesG[1:25]])\n",
    "\n",
    "# Ybar is a matrix of greenhouse gas values for each country or area in the dataset\n",
    "# Each row is for a country or area\n",
    "# Each column is for a year from 1991 to 2014\n",
    "\n",
    "print(Ybar)"
   ]
  },
  {
   "cell_type": "markdown",
   "metadata": {},
   "source": [
    "### DMD for the data set of carbon dioxide values"
   ]
  },
  {
   "cell_type": "code",
   "execution_count": 50,
   "metadata": {},
   "outputs": [],
   "source": [
    "# Note: C is added to the end of the variable names to distinguish them from the variable names when\n",
    "# DMD is utilized for the greenhouse gas values\n",
    "# The comments will refer to each variable name without the C at the end of each name\n",
    "\n",
    "from scipy.linalg import diagsvd\n",
    "\n",
    "UC, sigma_arrayC, V_tC = np.linalg.svd(X)\n",
    "# np.linalg.svd() calculates the corresponding values of U, the array of sigma values, and V transpose for X\n",
    "\n",
    "VC = V_tC.T # V is the transpose of V transpose\n",
    "\n",
    "SigmaC = diagsvd(sigma_arrayC, 37, 24) \n",
    "# Creates Sigma as a 37x24 rectangular diagonal matrix whose diagonal entries are the entries of the sigma array\n",
    "# Sigma is known to be 37x24 because it has the same dimensions as X, which is a 37x24 matrix"
   ]
  },
  {
   "cell_type": "code",
   "execution_count": 51,
   "metadata": {},
   "outputs": [
    {
     "name": "stdout",
     "output_type": "stream",
     "text": [
      "24\n"
     ]
    }
   ],
   "source": [
    "rC = np.linalg.matrix_rank(X) # r is the rank of X\n",
    "print(rC)"
   ]
  },
  {
   "cell_type": "code",
   "execution_count": 52,
   "metadata": {},
   "outputs": [],
   "source": [
    "UrC = UC[:,0:24] # Ur is a matrix containing the first r columns of U\n",
    "SigmarC = SigmaC[0:24,0:24] # Sigmar is a matrix containing the first r rows and the first r columns of Sigma\n",
    "VrC = VC[:,0:24] # Vr is a matrix containing the first r columns of V\n",
    "Vr_starC = VrC.conj().T # Vr_star is the conjugate transpose of Vr\n",
    "Xr = np.dot(np.dot(UrC,SigmarC),Vr_starC)\n",
    "# Xr = (Ur)(Sigmar)(Vr_star)"
   ]
  },
  {
   "cell_type": "code",
   "execution_count": 53,
   "metadata": {},
   "outputs": [],
   "source": [
    "Xplus = np.linalg.pinv(X) # Calculates Xplus, which is the pseudo-inverse of X\n",
    "Ur_starC = UrC.conj().T # Ur_star is the conjugate transpose of Ur\n",
    "\n",
    "ArC = np.dot(np.dot(np.dot(Ur_starC,Xbar),Xplus),UrC)\n",
    "# Ar = (Ur_star)(Xbar)(Xplus)(Ur)\n",
    "\n",
    "# Ar can also be found using the following: ArC = np.dot(np.dot(np.dot(Ur_star,Xbar),VrC),np.linalg.inv(SigmarC))\n",
    "# In the above line, Ar = (Ur_star)(Xbar)(Vr)(Sigmar's inverse)\n",
    "\n",
    "eigenvalue_arrayC, WC = np.linalg.eig(ArC)\n",
    "# Determines the eigenvalues of Ar and places them as entries in the eigenvalue array\n",
    "# Also determines the eigenvectors of Ar and places each eigenvector in the array W as a column"
   ]
  },
  {
   "cell_type": "code",
   "execution_count": 54,
   "metadata": {},
   "outputs": [
    {
     "data": {
      "text/plain": [
       "(24,)"
      ]
     },
     "execution_count": 54,
     "metadata": {},
     "output_type": "execute_result"
    }
   ],
   "source": [
    "PhiC = np.dot(np.dot(np.dot(Xbar,VrC),np.linalg.inv(SigmarC)),WC)\n",
    "# Phi = (Xbar)(Vr)(Sigmar's inverse)(W)\n",
    "\n",
    "BC = np.dot(np.linalg.pinv(PhiC),X[:,0])\n",
    "# B = (Phi's pseudo-inverse)(X's first column)\n",
    "np.shape(BC)"
   ]
  },
  {
   "cell_type": "code",
   "execution_count": 55,
   "metadata": {},
   "outputs": [],
   "source": [
    "def discreteC(k):\n",
    "    xveck = np.zeros(37) # Initializes x vector k as a zero array\n",
    "    for j in range(1,rC):\n",
    "        xveck = xveck + np.dot(np.dot(PhiC[:,j],eigenvalue_arrayC[j]**(k - 1)),BC[j])\n",
    "        # For j in range of 1 to r: \n",
    "        # x vector k = (x vector k) + (Phi's jth column)((eigenvalue array's jth entry)^(k - 1))(B's jth entry)\n",
    "    return xveck"
   ]
  },
  {
   "cell_type": "code",
   "execution_count": 56,
   "metadata": {},
   "outputs": [],
   "source": [
    "def continuousC(k):\n",
    "    xveck = np.zeros(37) # Initializes x vector k as a zero array\n",
    "    for j in range(1,rC):\n",
    "        xveck = xveck + np.dot(np.dot(PhiC[:,j],np.exp(np.log(eigenvalue_arrayC[j])/(1/(k - 1)))),BC[j])\n",
    "        # For j in range of 1 to r: \n",
    "        # x vector k = (x vector k) + (Phi's jth column)(e**(omega's jth entry))(B's jth entry)\n",
    "        # omega's jth entry = log(eigenvalue array's jth entry)/deltat\n",
    "        # deltat = 1/(k - 1)\n",
    "    return xveck"
   ]
  },
  {
   "cell_type": "markdown",
   "metadata": {},
   "source": [
    "### DMD for the data set of greenhouse gas values"
   ]
  },
  {
   "cell_type": "code",
   "execution_count": 57,
   "metadata": {},
   "outputs": [],
   "source": [
    "# Note: G is added to the end of the variable names to distinguish them from the variable names when\n",
    "# DMD is utilized for the carbon dioxide values\n",
    "# The comments will refer to each variable name without the G at the end of each name\n",
    "\n",
    "from scipy.linalg import diagsvd\n",
    "\n",
    "UG, sigma_arrayG, V_tG = np.linalg.svd(Y)\n",
    "# np.linalg.svd() calculates the corresponding values of U, the array of sigma values, and V transpose for Y\n",
    "\n",
    "VG = V_tG.T # V is the transpose of V transpose\n",
    "\n",
    "SigmaG = diagsvd(sigma_arrayG, 37, 24) \n",
    "# Creates Sigma as a 37x24 rectangular diagonal matrix whose diagonal entries are the entries of the sigma array\n",
    "# Sigma is known to be 37x24 because it has the same dimensions as Y, which is a 37x24 matrix"
   ]
  },
  {
   "cell_type": "code",
   "execution_count": 58,
   "metadata": {},
   "outputs": [
    {
     "name": "stdout",
     "output_type": "stream",
     "text": [
      "24\n"
     ]
    }
   ],
   "source": [
    "rG = np.linalg.matrix_rank(Y) # r is the rank of Y\n",
    "print(rG)"
   ]
  },
  {
   "cell_type": "code",
   "execution_count": 59,
   "metadata": {},
   "outputs": [],
   "source": [
    "UrG = UG[:,0:24] # Ur is a matrix containing the first r columns of U\n",
    "SigmarG = SigmaG[0:24,0:24] # Sigmar is a matrix containing the first r rows and the first r columns of Sigma\n",
    "VrG = VG[:,0:24] # Vr is a matrix containing the first r columns of V\n",
    "Vr_starG = VrG.conj().T # Vr_star is the conjugate transpose of Vr\n",
    "Yr = np.dot(np.dot(UrG,SigmarG),Vr_starG)\n",
    "# Xr = (Ur)(Sigmar)(Vr_star)"
   ]
  },
  {
   "cell_type": "code",
   "execution_count": 60,
   "metadata": {},
   "outputs": [],
   "source": [
    "Yplus = np.linalg.pinv(Y) # Calculates Yplus, which is the pseudo-inverse of Y\n",
    "Ur_starG = UrG.conj().T # Ur_star is the conjugate transpose of Ur\n",
    "\n",
    "ArG = np.dot(np.dot(np.dot(Ur_starG,Ybar),Yplus),UrG)\n",
    "# Ar = (Ur_star)(Ybar)(Yplus)(Ur)\n",
    "\n",
    "# Ar can also be found using the following: ArG = np.dot(np.dot(np.dot(Ur_starG,Ybar),VrG),np.linalg.inv(SigmarG))\n",
    "# In the above line, Ar = (Ur_star)(Ybar)(Vr)(Sigmar's inverse)\n",
    "\n",
    "eigenvalue_arrayG, WG = np.linalg.eig(ArG)\n",
    "# Determines the eigenvalues of Ar and places them as entries in the eigenvalue array\n",
    "# Also determines the eigenvectors of Ar and places each eigenvector in the array W as a column"
   ]
  },
  {
   "cell_type": "code",
   "execution_count": 61,
   "metadata": {},
   "outputs": [],
   "source": [
    "PhiG = np.dot(np.dot(np.dot(Ybar,VrG),np.linalg.inv(SigmarG)),WG)\n",
    "# Phi = (Ybar)(Vr)(Sigmar's inverse)(W)\n",
    "\n",
    "BG = np.dot(np.linalg.pinv(PhiG),Y[:,0])\n",
    "# B = (Phi's pseudo-inverse)(Y's first column)"
   ]
  },
  {
   "cell_type": "code",
   "execution_count": 62,
   "metadata": {},
   "outputs": [],
   "source": [
    "def discreteG(k):\n",
    "    yveck = np.zeros(37) # Initializes y vector k as a zero array\n",
    "    for j in range(1,rG):\n",
    "        yveck = yveck + np.dot(np.dot(PhiG[:,j],eigenvalue_arrayG[j]**(k - 1)),BG[j])\n",
    "        # For j in range of 1 to r: \n",
    "        # y vector k = (x vector k) + (Phi's jth column)((eigenvalue array's jth entry)^(k - 1))(B's jth entry)\n",
    "    return yveck"
   ]
  },
  {
   "cell_type": "code",
   "execution_count": 63,
   "metadata": {},
   "outputs": [],
   "source": [
    "def continuousG(k):\n",
    "    yveck = np.zeros(37) # Initializes y vector k as a zero array\n",
    "    for j in range(1,rG):\n",
    "        yveck = yveck + np.dot(np.dot(PhiG[:,j],np.exp(np.log(eigenvalue_arrayG[j])/(1/(k - 1)))),BG[j])\n",
    "        # For j in range of 1 to r: \n",
    "        # y vector k = (y vector k) + (Phi's jth column)(e**(omega's jth entry))(B's jth entry)\n",
    "        # omega's jth entry = log(eigenvalue array's jth entry)/deltat\n",
    "        # deltat = 1/(k - 1)\n",
    "    return yveck"
   ]
  },
  {
   "cell_type": "markdown",
   "metadata": {},
   "source": [
    "### Carbon dioxide DMD visualizations"
   ]
  },
  {
   "cell_type": "code",
   "execution_count": 64,
   "metadata": {},
   "outputs": [
    {
     "name": "stderr",
     "output_type": "stream",
     "text": [
      "C:\\Users\\Ethan\\Anaconda3\\lib\\site-packages\\numpy\\core\\numeric.py:591: ComplexWarning: Casting complex values to real discards the imaginary part\n",
      "  return array(a, dtype, copy=False, order=order, subok=True)\n"
     ]
    },
    {
     "data": {
      "image/png": "[encoded data removed]",
      "text/plain": [
       "<Figure size 960x640 with 1 Axes>"
      ]
     },
     "metadata": {
      "needs_background": "light"
     },
     "output_type": "display_data"
    }
   ],
   "source": [
    "plt.figure(figsize = (12,8), dpi = 80)\n",
    "\n",
    "plt.scatter(np.linspace(1,37,num=37),X[:,20], s = 100, marker = 's', color = 'green', label = '2010 CO2 Data Set')\n",
    "plt.scatter(np.linspace(1,37,num=37),discreteC(20), s = 100, marker = 'o', color = 'blue', label = '2010 CO2 Discrete DMD')\n",
    "plt.scatter(np.linspace(1,37,num=37),continuousC(20), s = 100, marker = '^', color = 'red', label = '2010 CO2 Continuous DMD')\n",
    "# Plots the 2010 carbon dioxide emissions from the data set, the 2010 carbon dioxide discrete DMD column,\n",
    "# and the 2010 carbon dioxide continuous DMD column\n",
    "\n",
    "\n",
    "plt.xlabel('Country / Area')\n",
    "plt.ylabel('CO2 Emissions (kilotons)')\n",
    "plt.title('CO2 Data Set vs CO2 Discrete DMD vs CO2 Continuous DMD (2010)')\n",
    "plt.legend()\n",
    "plt.show()"
   ]
  },
  {
   "cell_type": "code",
   "execution_count": 65,
   "metadata": {},
   "outputs": [],
   "source": [
    "DMDmatrixC = np.array([discreteC(0),discreteC(1),discreteC(2),discreteC(3),discreteC(4),discreteC(5),discreteC(6),\n",
    "                      discreteC(7),discreteC(8),discreteC(9),discreteC(10),discreteC(11),discreteC(12),discreteC(13),\n",
    "                      discreteC(14),discreteC(15),discreteC(16),discreteC(17),discreteC(18),discreteC(19),\n",
    "                       discreteC(20),discreteC(21),discreteC(22),discreteC(23),discreteC(24),discreteC(25),\n",
    "                       discreteC(26),discreteC(27), discreteC(28),discreteC(29),discreteC(30),discreteC(31),\n",
    "                      discreteC(32),discreteC(33), discreteC(34)])\n",
    "\n",
    "DMDmatrixC = DMDmatrixC.T\n",
    "# Turns DMDmatricC into a 35x37 matrix\n",
    "\n",
    "# Creates a 2D numpy array containing the first 35 columns of the discrete DMD function for carbon dioxide values\n",
    "# Each column corresponds to a year of carbon dioxide emissions in each country or area from 1990 to 2024"
   ]
  },
  {
   "cell_type": "code",
   "execution_count": 66,
   "metadata": {},
   "outputs": [
    {
     "data": {
      "image/png": "[encoded data removed]",
      "text/plain": [
       "<Figure size 960x640 with 1 Axes>"
      ]
     },
     "metadata": {
      "needs_background": "light"
     },
     "output_type": "display_data"
    }
   ],
   "source": [
    "plt.figure(figsize = (12,8), dpi = 80)\n",
    "\n",
    "plt.scatter(np.linspace(1,37,num=37),DMDmatrixC[:,25], s = 100, marker = 's', color = 'green', label = '2015')\n",
    "plt.scatter(np.linspace(1,37,num=37),DMDmatrixC[:,26], s = 100, marker = 'o', color = 'blue', label = '2016')\n",
    "plt.scatter(np.linspace(1,37,num=37),DMDmatrixC[:,27], s = 100, marker = '^', color = 'purple', label = '2017')\n",
    "plt.scatter(np.linspace(1,37,num=37),DMDmatrixC[:,28], s = 100, marker = '*', color = 'red', label = '2018')\n",
    "plt.scatter(np.linspace(1,37,num=37),DMDmatrixC[:,29], s = 100, marker = 'p', color = 'orange', label = '2019')\n",
    "plt.scatter(np.linspace(1,37,num=37),DMDmatrixC[:,30], s = 100, marker = 'h', color = 'yellow', label = '2020')\n",
    "# Plots the 2015-2020 estimates for carbon dioxide emission values from each country or area\n",
    "\n",
    "plt.xlabel('Country / Area')\n",
    "plt.ylabel('CO2 Emissions (kilotons)')\n",
    "plt.title('DMD CO2 Emission Predictions')\n",
    "plt.legend()\n",
    "plt.show()"
   ]
  },
  {
   "cell_type": "code",
   "execution_count": 67,
   "metadata": {},
   "outputs": [],
   "source": [
    "UNdataC = np.array([[402995,413370],[66704,67402],[58966,60509],[100229,100244],[565577,558189],[17997,18221],\n",
    "                  [6903,7308],[104785,106543],[36625,38472],[15891,17494],[3510586,3489056],[44346,47926],\n",
    "                  [344390,346790],[797078,801753],[74962,71373],[46665,47578],[3536,3490],[38444,39928],\n",
    "                    [355483,350323],[1223666,1204319],[7334,7264],[13142,13157],[1758,1420],[165030,165522],\n",
    "                   [35837,34463],[44664,44032],[310526,321182],[52205,50285],[77788,75052],[1671895,1668070],\n",
    "                   [33897,33997],[13599,14400],[43386,42568],[38739,39205],[380858,402821],[223580,235156],\n",
    "                   [5420804,5310861]])\n",
    "\n",
    "# This is an array containing the 2015 and 2016 data on carbon dioxide emissions for the same countries and areas\n",
    "# in the matrix X. This data was retrieved from: http://data.un.org/Data.aspx?d=GHG&f=seriesID%3aCO2"
   ]
  },
  {
   "cell_type": "code",
   "execution_count": 68,
   "metadata": {},
   "outputs": [
    {
     "data": {
      "image/png": "[encoded data removed]",
      "text/plain": [
       "<Figure size 960x640 with 1 Axes>"
      ]
     },
     "metadata": {
      "needs_background": "light"
     },
     "output_type": "display_data"
    }
   ],
   "source": [
    "plt.figure(figsize = (12,8), dpi = 80)\n",
    "\n",
    "plt.scatter(np.linspace(1,37,num=37),DMDmatrixC[:,25], s = 100, marker = 's', color = 'green', label = '2015 CO2 DMD')\n",
    "plt.scatter(np.linspace(1,37,num=37),DMDmatrixC[:,26], s = 100, marker = 'o', color = 'blue', label = '2016 CO2 DMD')\n",
    "# Plots the 2015-2016 estimates for carbon dioxide emission values from each country or area\n",
    "\n",
    "plt.scatter(np.linspace(1,37,num=37),UNdataC[:,0], s = 100, marker = '^', color = 'purple', label = '2015 CO2 Data Set')\n",
    "plt.scatter(np.linspace(1,37,num=37),UNdataC[:,1], s = 100, marker = '*', color = 'red', label = '2016 CO2 Data Set')\n",
    "# Plots the 2015-2016 data for carbon dioxide emission values from each country or area\n",
    "\n",
    "plt.xlabel('Country / Area')\n",
    "plt.ylabel('CO2 Emissions (kilotons)')\n",
    "plt.title('DMD CO2 Emission Predictions vs CO2 Emission Data')\n",
    "plt.legend()\n",
    "plt.show()"
   ]
  },
  {
   "cell_type": "code",
   "execution_count": 69,
   "metadata": {},
   "outputs": [
    {
     "data": {
      "image/png": "[encoded data removed]",
      "text/plain": [
       "<Figure size 640x480 with 1 Axes>"
      ]
     },
     "metadata": {
      "needs_background": "light"
     },
     "output_type": "display_data"
    }
   ],
   "source": [
    "x1 = np.linspace(2015, 2020, num = 6) # Creates a numpy array for the years 2015-2020 on the x-axis\n",
    "\n",
    "plt.figure(figsize = (8,6), dpi = 80)\n",
    "plt.scatter(x, AustraliaC, marker = 'o', color = 'blue', label = 'Data Set (1990-2014)')\n",
    "plt.scatter(x, DMDmatrixC[0,0:25], marker = '^', color = 'green', label = 'Discrete DMD Reconstruction')\n",
    "plt.scatter(x1, DMDmatrixC[0,25:31], marker = 's', color = 'red', label = 'Discrete DMD Prediction')\n",
    "# Plots the Australia carbon dioxide emission levels data set, the discrete DMD reconstruction of Australia's carbon\n",
    "# dioxide data set from 1990 to 2014, and the discrete DMD predictions for Australia's carbon dioxide emission levels\n",
    "# from 2015 to 2020\n",
    "\n",
    "plt.title('Annual CO2 Emissions vs CO2 DMD Reconstruction vs CO2 DMD Predictions in Australia')\n",
    "plt.xlabel('Year')\n",
    "plt.ylabel('Emissions (kilotons)')\n",
    "plt.legend()\n",
    "plt.show()"
   ]
  },
  {
   "cell_type": "markdown",
   "metadata": {},
   "source": [
    "### Greenhouse gas DMD visualizations"
   ]
  },
  {
   "cell_type": "code",
   "execution_count": 70,
   "metadata": {},
   "outputs": [
    {
     "data": {
      "image/png": "[encoded data removed]",
      "text/plain": [
       "<Figure size 960x640 with 1 Axes>"
      ]
     },
     "metadata": {
      "needs_background": "light"
     },
     "output_type": "display_data"
    }
   ],
   "source": [
    "plt.figure(figsize = (12,8), dpi = 80)\n",
    "\n",
    "plt.scatter(np.linspace(1,37,num=37),Y[:,20], s = 100, marker = 's', color = 'green', label = '2010 GHG Data Set')\n",
    "plt.scatter(np.linspace(1,37,num=37),discreteG(20), s = 100, marker = 'o', color = 'blue', label = '2010 GHG Discrete DMD')\n",
    "plt.scatter(np.linspace(1,37,num=37),continuousG(20), s = 100, marker = '^', color = 'red', label = '2010 GHG Continuous DMD')\n",
    "\n",
    "# Plots the 2010 greenhouse gas emissions from the data set, the 2010 greenhouse gas discrete DMD column,\n",
    "# and the 2010 greenhouse gas continuous DMD column\n",
    "\n",
    "plt.xlabel('Country / Area')\n",
    "plt.ylabel('GHG Emissions (kilotons)')\n",
    "plt.title('GHG Data Set vs GHG Discrete DMD vs GHG Continuous DMD (2010)')\n",
    "plt.legend()\n",
    "plt.show()"
   ]
  },
  {
   "cell_type": "code",
   "execution_count": 71,
   "metadata": {},
   "outputs": [],
   "source": [
    "DMDmatrixG = np.array([discreteG(0),discreteG(1),discreteG(2),discreteG(3),discreteG(4),discreteG(5),discreteG(6),\n",
    "                      discreteG(7),discreteG(8),discreteG(9),discreteG(10),discreteG(11),discreteG(12),discreteG(13),\n",
    "                      discreteG(14),discreteG(15),discreteG(16),discreteG(17),discreteG(18),discreteG(19),\n",
    "                       discreteG(20),discreteG(21),discreteG(22),discreteG(23),discreteG(24),discreteG(25),\n",
    "                       discreteG(26),discreteG(27), discreteG(28),discreteG(29),discreteG(30),discreteG(31),\n",
    "                      discreteG(32),discreteG(33), discreteG(34)])\n",
    "\n",
    "DMDmatrixG = DMDmatrixG.T\n",
    "# Turns DMDmatricG into a 35x37 matrix\n",
    "\n",
    "# Creates a 2D numpy array containing the first 35 columns of the discrete DMD function for greenhouse gas values\n",
    "# Each column corresponds to a year of greenhouse gas emissions in each country or area from 1990 to 2024"
   ]
  },
  {
   "cell_type": "code",
   "execution_count": 72,
   "metadata": {},
   "outputs": [
    {
     "data": {
      "image/png": "[encoded data removed]",
      "text/plain": [
       "<Figure size 960x640 with 1 Axes>"
      ]
     },
     "metadata": {
      "needs_background": "light"
     },
     "output_type": "display_data"
    }
   ],
   "source": [
    "plt.figure(figsize = (12,8), dpi = 80)\n",
    "\n",
    "plt.scatter(np.linspace(1,37,num=37),DMDmatrixG[:,25], s = 100, marker = 's', color = 'green', label = '2015')\n",
    "plt.scatter(np.linspace(1,37,num=37),DMDmatrixG[:,26], s = 100, marker = 'o', color = 'blue', label = '2016')\n",
    "plt.scatter(np.linspace(1,37,num=37),DMDmatrixG[:,27], s = 100, marker = '^', color = 'purple', label = '2017')\n",
    "plt.scatter(np.linspace(1,37,num=37),DMDmatrixG[:,28], s = 100, marker = '*', color = 'red', label = '2018')\n",
    "plt.scatter(np.linspace(1,37,num=37),DMDmatrixG[:,29], s = 100, marker = 'p', color = 'orange', label = '2019')\n",
    "plt.scatter(np.linspace(1,37,num=37),DMDmatrixG[:,30], s = 100, marker = 'h', color = 'yellow', label = '2020')\n",
    "# Plots the 2015-2020 estimates for greenhouse gas emission values from each country or area\n",
    "\n",
    "plt.xlabel('Country / Area')\n",
    "plt.ylabel('GHG Emissions (kilotons)')\n",
    "plt.title('DMD GHG Emission Predictions')\n",
    "plt.legend()\n",
    "plt.show()"
   ]
  },
  {
   "cell_type": "code",
   "execution_count": 73,
   "metadata": {},
   "outputs": [],
   "source": [
    "UNdataG = np.array([[537551,549158],[78856,79673],[90171,91542],[117584,117727],[713817,704162],[24667,24805],\n",
    "                  [8328,8773],[127621,129583],[49618,51620],[18090,19667],[4317925,4291252],[55347,58737],\n",
    "                  [464566,465129],[906752,909404],[95310,91607],[61010,61464],[4749,4669],[59472,61596],\n",
    "                    [432878,427862],[1321061,1304568],[11318,11289],[20175,20083],[2225,1910],[194552,195029],\n",
    "                   [80703,78727],[53871,53243],[385170,395824],[69413,67621],[122084,118232],[2629877,2643817],\n",
    "                   [40906,41037],[16888,17748],[53755,52893],[47813,48199],[469930,496067],[319012,338636],\n",
    "                   [6638133,6511302]])\n",
    "\n",
    "# This is an array containing the 2015 and 2016 data on greenhouse gas emissions for the same countries and areas\n",
    "# in the matrix Y. This data was retrieved from: http://data.un.org/Data.aspx?d=GHG&f=seriesID%3aGHG"
   ]
  },
  {
   "cell_type": "code",
   "execution_count": 74,
   "metadata": {},
   "outputs": [
    {
     "data": {
      "image/png": "[encoded data removed]",
      "text/plain": [
       "<Figure size 960x640 with 1 Axes>"
      ]
     },
     "metadata": {
      "needs_background": "light"
     },
     "output_type": "display_data"
    }
   ],
   "source": [
    "plt.figure(figsize = (12,8), dpi = 80)\n",
    "\n",
    "plt.scatter(np.linspace(1,37,num=37),DMDmatrixG[:,25], s = 100, marker = 's', color = 'green', label = '2015 GHG DMD')\n",
    "plt.scatter(np.linspace(1,37,num=37),DMDmatrixG[:,26], s = 100, marker = 'o', color = 'blue', label = '2016 GHG DMD')\n",
    "# Plots the 2015-2016 estimates for greenhouse gas emission values from each country or area\n",
    "\n",
    "plt.scatter(np.linspace(1,37,num=37),UNdataG[:,0], s = 100, marker = '^', color = 'purple', label = '2015 GHG Data Set')\n",
    "plt.scatter(np.linspace(1,37,num=37),UNdataG[:,1], s = 100, marker = '*', color = 'red', label = '2016 GHG Data Set')\n",
    "# Plots the 2015-2016 data for greenhouse gas emission values from each country or area\n",
    "\n",
    "plt.xlabel('Country / Area')\n",
    "plt.ylabel('GHG Emissions (kilotons)')\n",
    "plt.title('DMD GHG Emission Predictions vs GHG Emission Data')\n",
    "plt.legend()\n",
    "plt.show()"
   ]
  },
  {
   "cell_type": "code",
   "execution_count": 75,
   "metadata": {},
   "outputs": [
    {
     "data": {
      "image/png": "[encoded data removed]",
      "text/plain": [
       "<Figure size 640x480 with 1 Axes>"
      ]
     },
     "metadata": {
      "needs_background": "light"
     },
     "output_type": "display_data"
    }
   ],
   "source": [
    "plt.figure(figsize = (8,6), dpi = 80)\n",
    "plt.scatter(x, AustraliaG, marker = 'o', color = 'blue', label = 'Data Set (1990-2014)')\n",
    "plt.scatter(x, DMDmatrixG[0,0:25], marker = '^', color = 'green', label = 'Discrete DMD Reconstruction')\n",
    "plt.scatter(x1, DMDmatrixG[0,25:31], marker = 's', color = 'red', label = 'Discrete DMD Prediction')\n",
    "# Plots the Australia greenhouse gas emission levels data set, the discrete DMD reconstruction of Australia's\n",
    "# greenhouse gas data set from 1990 to 2014, and the discrete DMD predictions for Australia's greenhouse gas\n",
    "# emission levels from 2015 to 2020\n",
    "\n",
    "plt.title('Annual GHG Emissions vs GHG DMD Reconstruction vs GHG DMD Predictions in Australia')\n",
    "plt.xlabel('Year')\n",
    "plt.ylabel('Emissions (kilotons)')\n",
    "plt.legend()\n",
    "plt.show()"
   ]
  },
  {
   "cell_type": "code",
   "execution_count": null,
   "metadata": {},
   "outputs": [],
   "source": []
  }
 ],
 "metadata": {
  "kernelspec": {
   "display_name": "Python 3",
   "language": "python",
   "name": "python3"
  },
  "language_info": {
   "codemirror_mode": {
    "name": "ipython",
    "version": 3
   },
   "file_extension": ".py",
   "mimetype": "text/x-python",
   "name": "python",
   "nbconvert_exporter": "python",
   "pygments_lexer": "ipython3",
   "version": "3.7.3"
  }
 },
 "nbformat": 4,
 "nbformat_minor": 2
}
